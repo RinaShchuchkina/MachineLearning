{
 "cells": [
  {
   "cell_type": "code",
   "execution_count": 436,
   "id": "d6f21652-af89-4349-8aea-ef11a02e3bf0",
   "metadata": {},
   "outputs": [],
   "source": [
    "import numpy as np\n",
    "import pandas as pd\n",
    "import matplotlib.pyplot as plt  \n",
    "import seaborn as sns\n",
    "\n",
    "%matplotlib inline "
   ]
  },
  {
   "cell_type": "code",
   "execution_count": 437,
   "id": "e88b1b8c-ea6c-4801-9fdd-39ed8e2dffaa",
   "metadata": {},
   "outputs": [],
   "source": [
    "import warnings\n",
    "warnings.filterwarnings(\"ignore\")"
   ]
  },
  {
   "cell_type": "markdown",
   "id": "8d76a186-b98e-42d6-b25d-ba8a4695d61d",
   "metadata": {},
   "source": [
    "# Удаление дубликатов в данных"
   ]
  },
  {
   "cell_type": "code",
   "execution_count": 438,
   "id": "98d48bd8-57a1-4930-b5c1-8d332d471f64",
   "metadata": {},
   "outputs": [
    {
     "data": {
      "text/html": [
       "<div>\n",
       "<style scoped>\n",
       "    .dataframe tbody tr th:only-of-type {\n",
       "        vertical-align: middle;\n",
       "    }\n",
       "\n",
       "    .dataframe tbody tr th {\n",
       "        vertical-align: top;\n",
       "    }\n",
       "\n",
       "    .dataframe thead th {\n",
       "        text-align: right;\n",
       "    }\n",
       "</style>\n",
       "<table border=\"1\" class=\"dataframe\">\n",
       "  <thead>\n",
       "    <tr style=\"text-align: right;\">\n",
       "      <th></th>\n",
       "      <th>k1</th>\n",
       "      <th>k2</th>\n",
       "      <th>k3</th>\n",
       "      <th>k4</th>\n",
       "    </tr>\n",
       "  </thead>\n",
       "  <tbody>\n",
       "    <tr>\n",
       "      <th>0</th>\n",
       "      <td>one</td>\n",
       "      <td>1</td>\n",
       "      <td>1</td>\n",
       "      <td>1</td>\n",
       "    </tr>\n",
       "    <tr>\n",
       "      <th>1</th>\n",
       "      <td>two</td>\n",
       "      <td>1</td>\n",
       "      <td>1</td>\n",
       "      <td>1</td>\n",
       "    </tr>\n",
       "    <tr>\n",
       "      <th>2</th>\n",
       "      <td>one</td>\n",
       "      <td>2</td>\n",
       "      <td>2</td>\n",
       "      <td>1</td>\n",
       "    </tr>\n",
       "    <tr>\n",
       "      <th>3</th>\n",
       "      <td>two</td>\n",
       "      <td>3</td>\n",
       "      <td>3</td>\n",
       "      <td>1</td>\n",
       "    </tr>\n",
       "    <tr>\n",
       "      <th>4</th>\n",
       "      <td>one</td>\n",
       "      <td>3</td>\n",
       "      <td>3</td>\n",
       "      <td>1</td>\n",
       "    </tr>\n",
       "    <tr>\n",
       "      <th>5</th>\n",
       "      <td>two</td>\n",
       "      <td>4</td>\n",
       "      <td>4</td>\n",
       "      <td>1</td>\n",
       "    </tr>\n",
       "    <tr>\n",
       "      <th>6</th>\n",
       "      <td>two</td>\n",
       "      <td>4</td>\n",
       "      <td>4</td>\n",
       "      <td>1</td>\n",
       "    </tr>\n",
       "  </tbody>\n",
       "</table>\n",
       "</div>"
      ],
      "text/plain": [
       "    k1  k2  k3  k4\n",
       "0  one   1   1   1\n",
       "1  two   1   1   1\n",
       "2  one   2   2   1\n",
       "3  two   3   3   1\n",
       "4  one   3   3   1\n",
       "5  two   4   4   1\n",
       "6  two   4   4   1"
      ]
     },
     "execution_count": 438,
     "metadata": {},
     "output_type": "execute_result"
    }
   ],
   "source": [
    "data = pd.DataFrame({\"k1\": [\"one\", \"two\"] * 3 + [\"two\"], \"k2\": [1, 1, 2, 3, 3, 4, 4], \n",
    "                     \"k3\": [1, 1, 2, 3, 3, 4, 4], \"k4\":[1, 1, 1, 1, 1, 1, 1]})\n",
    "data"
   ]
  },
  {
   "cell_type": "code",
   "execution_count": 439,
   "id": "bb74a899-e100-4b5b-8739-d4d3588d8b26",
   "metadata": {},
   "outputs": [
    {
     "data": {
      "text/plain": [
       "0    False\n",
       "1    False\n",
       "2    False\n",
       "3    False\n",
       "4    False\n",
       "5    False\n",
       "6     True\n",
       "dtype: bool"
      ]
     },
     "execution_count": 439,
     "metadata": {},
     "output_type": "execute_result"
    }
   ],
   "source": [
    "data.duplicated()"
   ]
  },
  {
   "cell_type": "code",
   "execution_count": 440,
   "id": "cef50624-aac3-4f64-b835-e47931da670e",
   "metadata": {},
   "outputs": [
    {
     "data": {
      "text/html": [
       "<div>\n",
       "<style scoped>\n",
       "    .dataframe tbody tr th:only-of-type {\n",
       "        vertical-align: middle;\n",
       "    }\n",
       "\n",
       "    .dataframe tbody tr th {\n",
       "        vertical-align: top;\n",
       "    }\n",
       "\n",
       "    .dataframe thead th {\n",
       "        text-align: right;\n",
       "    }\n",
       "</style>\n",
       "<table border=\"1\" class=\"dataframe\">\n",
       "  <thead>\n",
       "    <tr style=\"text-align: right;\">\n",
       "      <th></th>\n",
       "      <th>k1</th>\n",
       "      <th>k2</th>\n",
       "      <th>k3</th>\n",
       "      <th>k4</th>\n",
       "    </tr>\n",
       "  </thead>\n",
       "  <tbody>\n",
       "    <tr>\n",
       "      <th>0</th>\n",
       "      <td>one</td>\n",
       "      <td>1</td>\n",
       "      <td>1</td>\n",
       "      <td>1</td>\n",
       "    </tr>\n",
       "    <tr>\n",
       "      <th>1</th>\n",
       "      <td>two</td>\n",
       "      <td>1</td>\n",
       "      <td>1</td>\n",
       "      <td>1</td>\n",
       "    </tr>\n",
       "    <tr>\n",
       "      <th>2</th>\n",
       "      <td>one</td>\n",
       "      <td>2</td>\n",
       "      <td>2</td>\n",
       "      <td>1</td>\n",
       "    </tr>\n",
       "    <tr>\n",
       "      <th>3</th>\n",
       "      <td>two</td>\n",
       "      <td>3</td>\n",
       "      <td>3</td>\n",
       "      <td>1</td>\n",
       "    </tr>\n",
       "    <tr>\n",
       "      <th>4</th>\n",
       "      <td>one</td>\n",
       "      <td>3</td>\n",
       "      <td>3</td>\n",
       "      <td>1</td>\n",
       "    </tr>\n",
       "    <tr>\n",
       "      <th>5</th>\n",
       "      <td>two</td>\n",
       "      <td>4</td>\n",
       "      <td>4</td>\n",
       "      <td>1</td>\n",
       "    </tr>\n",
       "  </tbody>\n",
       "</table>\n",
       "</div>"
      ],
      "text/plain": [
       "    k1  k2  k3  k4\n",
       "0  one   1   1   1\n",
       "1  two   1   1   1\n",
       "2  one   2   2   1\n",
       "3  two   3   3   1\n",
       "4  one   3   3   1\n",
       "5  two   4   4   1"
      ]
     },
     "execution_count": 440,
     "metadata": {},
     "output_type": "execute_result"
    }
   ],
   "source": [
    "data.drop_duplicates()"
   ]
  },
  {
   "cell_type": "code",
   "execution_count": 441,
   "id": "00f18e5b-97d2-4728-8993-fb28590196a2",
   "metadata": {},
   "outputs": [
    {
     "data": {
      "text/html": [
       "<div>\n",
       "<style scoped>\n",
       "    .dataframe tbody tr th:only-of-type {\n",
       "        vertical-align: middle;\n",
       "    }\n",
       "\n",
       "    .dataframe tbody tr th {\n",
       "        vertical-align: top;\n",
       "    }\n",
       "\n",
       "    .dataframe thead th {\n",
       "        text-align: right;\n",
       "    }\n",
       "</style>\n",
       "<table border=\"1\" class=\"dataframe\">\n",
       "  <thead>\n",
       "    <tr style=\"text-align: right;\">\n",
       "      <th></th>\n",
       "      <th>k1</th>\n",
       "      <th>k2</th>\n",
       "      <th>k4</th>\n",
       "    </tr>\n",
       "  </thead>\n",
       "  <tbody>\n",
       "    <tr>\n",
       "      <th>0</th>\n",
       "      <td>one</td>\n",
       "      <td>1</td>\n",
       "      <td>1</td>\n",
       "    </tr>\n",
       "    <tr>\n",
       "      <th>1</th>\n",
       "      <td>two</td>\n",
       "      <td>1</td>\n",
       "      <td>1</td>\n",
       "    </tr>\n",
       "    <tr>\n",
       "      <th>2</th>\n",
       "      <td>one</td>\n",
       "      <td>2</td>\n",
       "      <td>1</td>\n",
       "    </tr>\n",
       "    <tr>\n",
       "      <th>3</th>\n",
       "      <td>two</td>\n",
       "      <td>3</td>\n",
       "      <td>1</td>\n",
       "    </tr>\n",
       "    <tr>\n",
       "      <th>4</th>\n",
       "      <td>one</td>\n",
       "      <td>3</td>\n",
       "      <td>1</td>\n",
       "    </tr>\n",
       "    <tr>\n",
       "      <th>5</th>\n",
       "      <td>two</td>\n",
       "      <td>4</td>\n",
       "      <td>1</td>\n",
       "    </tr>\n",
       "    <tr>\n",
       "      <th>6</th>\n",
       "      <td>two</td>\n",
       "      <td>4</td>\n",
       "      <td>1</td>\n",
       "    </tr>\n",
       "  </tbody>\n",
       "</table>\n",
       "</div>"
      ],
      "text/plain": [
       "    k1 k2 k4\n",
       "0  one  1  1\n",
       "1  two  1  1\n",
       "2  one  2  1\n",
       "3  two  3  1\n",
       "4  one  3  1\n",
       "5  two  4  1\n",
       "6  two  4  1"
      ]
     },
     "execution_count": 441,
     "metadata": {},
     "output_type": "execute_result"
    }
   ],
   "source": [
    "data.T.drop_duplicates().T"
   ]
  },
  {
   "cell_type": "code",
   "execution_count": 442,
   "id": "82e65c60-6af0-4531-b097-c70fe60a8fae",
   "metadata": {},
   "outputs": [
    {
     "data": {
      "text/html": [
       "<div>\n",
       "<style scoped>\n",
       "    .dataframe tbody tr th:only-of-type {\n",
       "        vertical-align: middle;\n",
       "    }\n",
       "\n",
       "    .dataframe tbody tr th {\n",
       "        vertical-align: top;\n",
       "    }\n",
       "\n",
       "    .dataframe thead th {\n",
       "        text-align: right;\n",
       "    }\n",
       "</style>\n",
       "<table border=\"1\" class=\"dataframe\">\n",
       "  <thead>\n",
       "    <tr style=\"text-align: right;\">\n",
       "      <th></th>\n",
       "      <th>k1</th>\n",
       "      <th>k2</th>\n",
       "      <th>k3</th>\n",
       "    </tr>\n",
       "  </thead>\n",
       "  <tbody>\n",
       "    <tr>\n",
       "      <th>0</th>\n",
       "      <td>one</td>\n",
       "      <td>1</td>\n",
       "      <td>1</td>\n",
       "    </tr>\n",
       "    <tr>\n",
       "      <th>1</th>\n",
       "      <td>two</td>\n",
       "      <td>1</td>\n",
       "      <td>1</td>\n",
       "    </tr>\n",
       "    <tr>\n",
       "      <th>2</th>\n",
       "      <td>one</td>\n",
       "      <td>2</td>\n",
       "      <td>2</td>\n",
       "    </tr>\n",
       "    <tr>\n",
       "      <th>3</th>\n",
       "      <td>two</td>\n",
       "      <td>3</td>\n",
       "      <td>3</td>\n",
       "    </tr>\n",
       "    <tr>\n",
       "      <th>4</th>\n",
       "      <td>one</td>\n",
       "      <td>3</td>\n",
       "      <td>3</td>\n",
       "    </tr>\n",
       "    <tr>\n",
       "      <th>5</th>\n",
       "      <td>two</td>\n",
       "      <td>4</td>\n",
       "      <td>4</td>\n",
       "    </tr>\n",
       "    <tr>\n",
       "      <th>6</th>\n",
       "      <td>two</td>\n",
       "      <td>4</td>\n",
       "      <td>4</td>\n",
       "    </tr>\n",
       "  </tbody>\n",
       "</table>\n",
       "</div>"
      ],
      "text/plain": [
       "    k1  k2  k3\n",
       "0  one   1   1\n",
       "1  two   1   1\n",
       "2  one   2   2\n",
       "3  two   3   3\n",
       "4  one   3   3\n",
       "5  two   4   4\n",
       "6  two   4   4"
      ]
     },
     "execution_count": 442,
     "metadata": {},
     "output_type": "execute_result"
    }
   ],
   "source": [
    "data.drop(data.columns[data.nunique() == 1], axis=1)"
   ]
  },
  {
   "cell_type": "markdown",
   "id": "f86cc3cf-80d7-4654-965a-19ab2a28c23a",
   "metadata": {},
   "source": [
    "# Заполнение пропусков в данных"
   ]
  },
  {
   "cell_type": "markdown",
   "id": "113ff682-faec-4756-9583-89508f76d3a1",
   "metadata": {},
   "source": [
    "Nan - маркер отсутствия данных."
   ]
  },
  {
   "cell_type": "code",
   "execution_count": 443,
   "id": "0d21c1b4-3c74-44b4-90dd-5979bb3b3678",
   "metadata": {},
   "outputs": [
    {
     "data": {
      "text/plain": [
       "0    1.2\n",
       "1   -3.5\n",
       "2    NaN\n",
       "3    0.0\n",
       "dtype: float64"
      ]
     },
     "execution_count": 443,
     "metadata": {},
     "output_type": "execute_result"
    }
   ],
   "source": [
    "float_data = pd.Series([1.2, -3.5, np.nan, 0])\n",
    "float_data"
   ]
  },
  {
   "cell_type": "code",
   "execution_count": 444,
   "id": "b4a12528-8045-4fb7-8df0-a310b3f0460d",
   "metadata": {},
   "outputs": [
    {
     "data": {
      "text/plain": [
       "0    False\n",
       "1    False\n",
       "2     True\n",
       "3    False\n",
       "dtype: bool"
      ]
     },
     "execution_count": 444,
     "metadata": {},
     "output_type": "execute_result"
    }
   ],
   "source": [
    "float_data.isna()"
   ]
  },
  {
   "cell_type": "code",
   "execution_count": 445,
   "id": "46e16862-037d-447b-be6a-cc499dd36c90",
   "metadata": {},
   "outputs": [
    {
     "data": {
      "text/plain": [
       "0     True\n",
       "1     True\n",
       "2    False\n",
       "3     True\n",
       "dtype: bool"
      ]
     },
     "execution_count": 445,
     "metadata": {},
     "output_type": "execute_result"
    }
   ],
   "source": [
    "float_data.notna()"
   ]
  },
  {
   "cell_type": "markdown",
   "id": "6870fbfb-24ef-4ead-9ee8-ca78d77f3af9",
   "metadata": {},
   "source": [
    "Удаление данных с пропусками"
   ]
  },
  {
   "cell_type": "code",
   "execution_count": 446,
   "id": "f93e2d65-3c75-4968-863f-453a93229ec0",
   "metadata": {},
   "outputs": [
    {
     "data": {
      "text/html": [
       "<div>\n",
       "<style scoped>\n",
       "    .dataframe tbody tr th:only-of-type {\n",
       "        vertical-align: middle;\n",
       "    }\n",
       "\n",
       "    .dataframe tbody tr th {\n",
       "        vertical-align: top;\n",
       "    }\n",
       "\n",
       "    .dataframe thead th {\n",
       "        text-align: right;\n",
       "    }\n",
       "</style>\n",
       "<table border=\"1\" class=\"dataframe\">\n",
       "  <thead>\n",
       "    <tr style=\"text-align: right;\">\n",
       "      <th></th>\n",
       "      <th>0</th>\n",
       "      <th>1</th>\n",
       "      <th>2</th>\n",
       "      <th>3</th>\n",
       "    </tr>\n",
       "  </thead>\n",
       "  <tbody>\n",
       "    <tr>\n",
       "      <th>0</th>\n",
       "      <td>1.0</td>\n",
       "      <td>6.5</td>\n",
       "      <td>3.0</td>\n",
       "      <td>NaN</td>\n",
       "    </tr>\n",
       "    <tr>\n",
       "      <th>1</th>\n",
       "      <td>1.0</td>\n",
       "      <td>NaN</td>\n",
       "      <td>NaN</td>\n",
       "      <td>NaN</td>\n",
       "    </tr>\n",
       "    <tr>\n",
       "      <th>2</th>\n",
       "      <td>NaN</td>\n",
       "      <td>NaN</td>\n",
       "      <td>NaN</td>\n",
       "      <td>NaN</td>\n",
       "    </tr>\n",
       "    <tr>\n",
       "      <th>3</th>\n",
       "      <td>NaN</td>\n",
       "      <td>6.5</td>\n",
       "      <td>3.0</td>\n",
       "      <td>NaN</td>\n",
       "    </tr>\n",
       "  </tbody>\n",
       "</table>\n",
       "</div>"
      ],
      "text/plain": [
       "     0    1    2   3\n",
       "0  1.0  6.5  3.0 NaN\n",
       "1  1.0  NaN  NaN NaN\n",
       "2  NaN  NaN  NaN NaN\n",
       "3  NaN  6.5  3.0 NaN"
      ]
     },
     "execution_count": 446,
     "metadata": {},
     "output_type": "execute_result"
    }
   ],
   "source": [
    "data = pd.DataFrame([[1., 6.5, 3., np.nan], [1., np.nan, np.nan, np.nan], [np.nan, np.nan, np.nan, np.nan], \n",
    "                     [np.nan, 6.5, 3., np.nan]])\n",
    "data"
   ]
  },
  {
   "cell_type": "code",
   "execution_count": 447,
   "id": "a29a6793-8569-4091-a442-aeffa6aed226",
   "metadata": {},
   "outputs": [
    {
     "data": {
      "text/html": [
       "<div>\n",
       "<style scoped>\n",
       "    .dataframe tbody tr th:only-of-type {\n",
       "        vertical-align: middle;\n",
       "    }\n",
       "\n",
       "    .dataframe tbody tr th {\n",
       "        vertical-align: top;\n",
       "    }\n",
       "\n",
       "    .dataframe thead th {\n",
       "        text-align: right;\n",
       "    }\n",
       "</style>\n",
       "<table border=\"1\" class=\"dataframe\">\n",
       "  <thead>\n",
       "    <tr style=\"text-align: right;\">\n",
       "      <th></th>\n",
       "      <th>0</th>\n",
       "      <th>1</th>\n",
       "      <th>2</th>\n",
       "      <th>3</th>\n",
       "    </tr>\n",
       "  </thead>\n",
       "  <tbody>\n",
       "  </tbody>\n",
       "</table>\n",
       "</div>"
      ],
      "text/plain": [
       "Empty DataFrame\n",
       "Columns: [0, 1, 2, 3]\n",
       "Index: []"
      ]
     },
     "execution_count": 447,
     "metadata": {},
     "output_type": "execute_result"
    }
   ],
   "source": [
    "data.dropna()"
   ]
  },
  {
   "cell_type": "code",
   "execution_count": 448,
   "id": "edd894b5-d32d-455f-a293-edd7c8b2fa26",
   "metadata": {},
   "outputs": [
    {
     "data": {
      "text/html": [
       "<div>\n",
       "<style scoped>\n",
       "    .dataframe tbody tr th:only-of-type {\n",
       "        vertical-align: middle;\n",
       "    }\n",
       "\n",
       "    .dataframe tbody tr th {\n",
       "        vertical-align: top;\n",
       "    }\n",
       "\n",
       "    .dataframe thead th {\n",
       "        text-align: right;\n",
       "    }\n",
       "</style>\n",
       "<table border=\"1\" class=\"dataframe\">\n",
       "  <thead>\n",
       "    <tr style=\"text-align: right;\">\n",
       "      <th></th>\n",
       "      <th>0</th>\n",
       "      <th>1</th>\n",
       "      <th>2</th>\n",
       "      <th>3</th>\n",
       "    </tr>\n",
       "  </thead>\n",
       "  <tbody>\n",
       "    <tr>\n",
       "      <th>0</th>\n",
       "      <td>1.0</td>\n",
       "      <td>6.5</td>\n",
       "      <td>3.0</td>\n",
       "      <td>NaN</td>\n",
       "    </tr>\n",
       "    <tr>\n",
       "      <th>1</th>\n",
       "      <td>1.0</td>\n",
       "      <td>NaN</td>\n",
       "      <td>NaN</td>\n",
       "      <td>NaN</td>\n",
       "    </tr>\n",
       "    <tr>\n",
       "      <th>3</th>\n",
       "      <td>NaN</td>\n",
       "      <td>6.5</td>\n",
       "      <td>3.0</td>\n",
       "      <td>NaN</td>\n",
       "    </tr>\n",
       "  </tbody>\n",
       "</table>\n",
       "</div>"
      ],
      "text/plain": [
       "     0    1    2   3\n",
       "0  1.0  6.5  3.0 NaN\n",
       "1  1.0  NaN  NaN NaN\n",
       "3  NaN  6.5  3.0 NaN"
      ]
     },
     "execution_count": 448,
     "metadata": {},
     "output_type": "execute_result"
    }
   ],
   "source": [
    "data.dropna(how=\"all\")"
   ]
  },
  {
   "cell_type": "code",
   "execution_count": 449,
   "id": "e00385ee-c272-46b0-9ef7-6fd73ba4b441",
   "metadata": {},
   "outputs": [
    {
     "data": {
      "text/html": [
       "<div>\n",
       "<style scoped>\n",
       "    .dataframe tbody tr th:only-of-type {\n",
       "        vertical-align: middle;\n",
       "    }\n",
       "\n",
       "    .dataframe tbody tr th {\n",
       "        vertical-align: top;\n",
       "    }\n",
       "\n",
       "    .dataframe thead th {\n",
       "        text-align: right;\n",
       "    }\n",
       "</style>\n",
       "<table border=\"1\" class=\"dataframe\">\n",
       "  <thead>\n",
       "    <tr style=\"text-align: right;\">\n",
       "      <th></th>\n",
       "      <th>0</th>\n",
       "      <th>1</th>\n",
       "      <th>2</th>\n",
       "    </tr>\n",
       "  </thead>\n",
       "  <tbody>\n",
       "    <tr>\n",
       "      <th>0</th>\n",
       "      <td>1.0</td>\n",
       "      <td>6.5</td>\n",
       "      <td>3.0</td>\n",
       "    </tr>\n",
       "    <tr>\n",
       "      <th>1</th>\n",
       "      <td>1.0</td>\n",
       "      <td>NaN</td>\n",
       "      <td>NaN</td>\n",
       "    </tr>\n",
       "    <tr>\n",
       "      <th>2</th>\n",
       "      <td>NaN</td>\n",
       "      <td>NaN</td>\n",
       "      <td>NaN</td>\n",
       "    </tr>\n",
       "    <tr>\n",
       "      <th>3</th>\n",
       "      <td>NaN</td>\n",
       "      <td>6.5</td>\n",
       "      <td>3.0</td>\n",
       "    </tr>\n",
       "  </tbody>\n",
       "</table>\n",
       "</div>"
      ],
      "text/plain": [
       "     0    1    2\n",
       "0  1.0  6.5  3.0\n",
       "1  1.0  NaN  NaN\n",
       "2  NaN  NaN  NaN\n",
       "3  NaN  6.5  3.0"
      ]
     },
     "execution_count": 449,
     "metadata": {},
     "output_type": "execute_result"
    }
   ],
   "source": [
    "data.dropna(axis=\"columns\", how=\"all\")"
   ]
  },
  {
   "cell_type": "code",
   "execution_count": 450,
   "id": "6c821de0-5430-412b-9a5d-caaa2e4dfcee",
   "metadata": {},
   "outputs": [
    {
     "data": {
      "text/html": [
       "<div>\n",
       "<style scoped>\n",
       "    .dataframe tbody tr th:only-of-type {\n",
       "        vertical-align: middle;\n",
       "    }\n",
       "\n",
       "    .dataframe tbody tr th {\n",
       "        vertical-align: top;\n",
       "    }\n",
       "\n",
       "    .dataframe thead th {\n",
       "        text-align: right;\n",
       "    }\n",
       "</style>\n",
       "<table border=\"1\" class=\"dataframe\">\n",
       "  <thead>\n",
       "    <tr style=\"text-align: right;\">\n",
       "      <th></th>\n",
       "      <th>0</th>\n",
       "      <th>1</th>\n",
       "      <th>2</th>\n",
       "      <th>3</th>\n",
       "    </tr>\n",
       "  </thead>\n",
       "  <tbody>\n",
       "    <tr>\n",
       "      <th>0</th>\n",
       "      <td>1.0</td>\n",
       "      <td>6.5</td>\n",
       "      <td>3.0</td>\n",
       "      <td>NaN</td>\n",
       "    </tr>\n",
       "    <tr>\n",
       "      <th>3</th>\n",
       "      <td>NaN</td>\n",
       "      <td>6.5</td>\n",
       "      <td>3.0</td>\n",
       "      <td>NaN</td>\n",
       "    </tr>\n",
       "  </tbody>\n",
       "</table>\n",
       "</div>"
      ],
      "text/plain": [
       "     0    1    2   3\n",
       "0  1.0  6.5  3.0 NaN\n",
       "3  NaN  6.5  3.0 NaN"
      ]
     },
     "execution_count": 450,
     "metadata": {},
     "output_type": "execute_result"
    }
   ],
   "source": [
    "data.dropna(thresh=2)"
   ]
  },
  {
   "cell_type": "markdown",
   "id": "b925f4eb-7124-46b1-857f-78c523c348b9",
   "metadata": {},
   "source": [
    "Восполнение отсутствующих данных"
   ]
  },
  {
   "cell_type": "code",
   "execution_count": 451,
   "id": "4c424068-b7fd-4d96-bf31-243247781413",
   "metadata": {},
   "outputs": [
    {
     "data": {
      "text/html": [
       "<div>\n",
       "<style scoped>\n",
       "    .dataframe tbody tr th:only-of-type {\n",
       "        vertical-align: middle;\n",
       "    }\n",
       "\n",
       "    .dataframe tbody tr th {\n",
       "        vertical-align: top;\n",
       "    }\n",
       "\n",
       "    .dataframe thead th {\n",
       "        text-align: right;\n",
       "    }\n",
       "</style>\n",
       "<table border=\"1\" class=\"dataframe\">\n",
       "  <thead>\n",
       "    <tr style=\"text-align: right;\">\n",
       "      <th></th>\n",
       "      <th>0</th>\n",
       "      <th>1</th>\n",
       "      <th>2</th>\n",
       "    </tr>\n",
       "  </thead>\n",
       "  <tbody>\n",
       "    <tr>\n",
       "      <th>0</th>\n",
       "      <td>1.590131</td>\n",
       "      <td>NaN</td>\n",
       "      <td>NaN</td>\n",
       "    </tr>\n",
       "    <tr>\n",
       "      <th>1</th>\n",
       "      <td>0.512724</td>\n",
       "      <td>NaN</td>\n",
       "      <td>NaN</td>\n",
       "    </tr>\n",
       "    <tr>\n",
       "      <th>2</th>\n",
       "      <td>1.063600</td>\n",
       "      <td>NaN</td>\n",
       "      <td>-1.229331</td>\n",
       "    </tr>\n",
       "    <tr>\n",
       "      <th>3</th>\n",
       "      <td>-1.308047</td>\n",
       "      <td>NaN</td>\n",
       "      <td>-0.323438</td>\n",
       "    </tr>\n",
       "    <tr>\n",
       "      <th>4</th>\n",
       "      <td>-0.467493</td>\n",
       "      <td>-0.148616</td>\n",
       "      <td>-0.510687</td>\n",
       "    </tr>\n",
       "    <tr>\n",
       "      <th>5</th>\n",
       "      <td>0.190855</td>\n",
       "      <td>0.576820</td>\n",
       "      <td>1.006696</td>\n",
       "    </tr>\n",
       "    <tr>\n",
       "      <th>6</th>\n",
       "      <td>-0.201672</td>\n",
       "      <td>-1.238258</td>\n",
       "      <td>1.291395</td>\n",
       "    </tr>\n",
       "  </tbody>\n",
       "</table>\n",
       "</div>"
      ],
      "text/plain": [
       "          0         1         2\n",
       "0  1.590131       NaN       NaN\n",
       "1  0.512724       NaN       NaN\n",
       "2  1.063600       NaN -1.229331\n",
       "3 -1.308047       NaN -0.323438\n",
       "4 -0.467493 -0.148616 -0.510687\n",
       "5  0.190855  0.576820  1.006696\n",
       "6 -0.201672 -1.238258  1.291395"
      ]
     },
     "execution_count": 451,
     "metadata": {},
     "output_type": "execute_result"
    }
   ],
   "source": [
    "df = pd.DataFrame(np.random.standard_normal((7, 3)))\n",
    "df.iloc[:4, 1] = np.nan\n",
    "df.iloc[:2, 2] = np.nan\n",
    "df"
   ]
  },
  {
   "cell_type": "code",
   "execution_count": 452,
   "id": "9bc012b2-2d3d-40aa-9f47-7805574c11f3",
   "metadata": {},
   "outputs": [
    {
     "data": {
      "text/html": [
       "<div>\n",
       "<style scoped>\n",
       "    .dataframe tbody tr th:only-of-type {\n",
       "        vertical-align: middle;\n",
       "    }\n",
       "\n",
       "    .dataframe tbody tr th {\n",
       "        vertical-align: top;\n",
       "    }\n",
       "\n",
       "    .dataframe thead th {\n",
       "        text-align: right;\n",
       "    }\n",
       "</style>\n",
       "<table border=\"1\" class=\"dataframe\">\n",
       "  <thead>\n",
       "    <tr style=\"text-align: right;\">\n",
       "      <th></th>\n",
       "      <th>0</th>\n",
       "      <th>1</th>\n",
       "      <th>2</th>\n",
       "    </tr>\n",
       "  </thead>\n",
       "  <tbody>\n",
       "    <tr>\n",
       "      <th>0</th>\n",
       "      <td>1.590131</td>\n",
       "      <td>0.000000</td>\n",
       "      <td>0.000000</td>\n",
       "    </tr>\n",
       "    <tr>\n",
       "      <th>1</th>\n",
       "      <td>0.512724</td>\n",
       "      <td>0.000000</td>\n",
       "      <td>0.000000</td>\n",
       "    </tr>\n",
       "    <tr>\n",
       "      <th>2</th>\n",
       "      <td>1.063600</td>\n",
       "      <td>0.000000</td>\n",
       "      <td>-1.229331</td>\n",
       "    </tr>\n",
       "    <tr>\n",
       "      <th>3</th>\n",
       "      <td>-1.308047</td>\n",
       "      <td>0.000000</td>\n",
       "      <td>-0.323438</td>\n",
       "    </tr>\n",
       "    <tr>\n",
       "      <th>4</th>\n",
       "      <td>-0.467493</td>\n",
       "      <td>-0.148616</td>\n",
       "      <td>-0.510687</td>\n",
       "    </tr>\n",
       "    <tr>\n",
       "      <th>5</th>\n",
       "      <td>0.190855</td>\n",
       "      <td>0.576820</td>\n",
       "      <td>1.006696</td>\n",
       "    </tr>\n",
       "    <tr>\n",
       "      <th>6</th>\n",
       "      <td>-0.201672</td>\n",
       "      <td>-1.238258</td>\n",
       "      <td>1.291395</td>\n",
       "    </tr>\n",
       "  </tbody>\n",
       "</table>\n",
       "</div>"
      ],
      "text/plain": [
       "          0         1         2\n",
       "0  1.590131  0.000000  0.000000\n",
       "1  0.512724  0.000000  0.000000\n",
       "2  1.063600  0.000000 -1.229331\n",
       "3 -1.308047  0.000000 -0.323438\n",
       "4 -0.467493 -0.148616 -0.510687\n",
       "5  0.190855  0.576820  1.006696\n",
       "6 -0.201672 -1.238258  1.291395"
      ]
     },
     "execution_count": 452,
     "metadata": {},
     "output_type": "execute_result"
    }
   ],
   "source": [
    "df.fillna(0)"
   ]
  },
  {
   "cell_type": "code",
   "execution_count": 453,
   "id": "b8312838-7afb-475a-9db6-13aee9113c93",
   "metadata": {},
   "outputs": [
    {
     "data": {
      "text/html": [
       "<div>\n",
       "<style scoped>\n",
       "    .dataframe tbody tr th:only-of-type {\n",
       "        vertical-align: middle;\n",
       "    }\n",
       "\n",
       "    .dataframe tbody tr th {\n",
       "        vertical-align: top;\n",
       "    }\n",
       "\n",
       "    .dataframe thead th {\n",
       "        text-align: right;\n",
       "    }\n",
       "</style>\n",
       "<table border=\"1\" class=\"dataframe\">\n",
       "  <thead>\n",
       "    <tr style=\"text-align: right;\">\n",
       "      <th></th>\n",
       "      <th>0</th>\n",
       "      <th>1</th>\n",
       "      <th>2</th>\n",
       "    </tr>\n",
       "  </thead>\n",
       "  <tbody>\n",
       "    <tr>\n",
       "      <th>0</th>\n",
       "      <td>1.590131</td>\n",
       "      <td>0.500000</td>\n",
       "      <td>0.000000</td>\n",
       "    </tr>\n",
       "    <tr>\n",
       "      <th>1</th>\n",
       "      <td>0.512724</td>\n",
       "      <td>0.500000</td>\n",
       "      <td>0.000000</td>\n",
       "    </tr>\n",
       "    <tr>\n",
       "      <th>2</th>\n",
       "      <td>1.063600</td>\n",
       "      <td>0.500000</td>\n",
       "      <td>-1.229331</td>\n",
       "    </tr>\n",
       "    <tr>\n",
       "      <th>3</th>\n",
       "      <td>-1.308047</td>\n",
       "      <td>0.500000</td>\n",
       "      <td>-0.323438</td>\n",
       "    </tr>\n",
       "    <tr>\n",
       "      <th>4</th>\n",
       "      <td>-0.467493</td>\n",
       "      <td>-0.148616</td>\n",
       "      <td>-0.510687</td>\n",
       "    </tr>\n",
       "    <tr>\n",
       "      <th>5</th>\n",
       "      <td>0.190855</td>\n",
       "      <td>0.576820</td>\n",
       "      <td>1.006696</td>\n",
       "    </tr>\n",
       "    <tr>\n",
       "      <th>6</th>\n",
       "      <td>-0.201672</td>\n",
       "      <td>-1.238258</td>\n",
       "      <td>1.291395</td>\n",
       "    </tr>\n",
       "  </tbody>\n",
       "</table>\n",
       "</div>"
      ],
      "text/plain": [
       "          0         1         2\n",
       "0  1.590131  0.500000  0.000000\n",
       "1  0.512724  0.500000  0.000000\n",
       "2  1.063600  0.500000 -1.229331\n",
       "3 -1.308047  0.500000 -0.323438\n",
       "4 -0.467493 -0.148616 -0.510687\n",
       "5  0.190855  0.576820  1.006696\n",
       "6 -0.201672 -1.238258  1.291395"
      ]
     },
     "execution_count": 453,
     "metadata": {},
     "output_type": "execute_result"
    }
   ],
   "source": [
    "df.fillna({1: 0.5, 2: 0})"
   ]
  },
  {
   "cell_type": "code",
   "execution_count": 454,
   "id": "ed02158e-bd5f-46e0-973c-023d6a8aabc1",
   "metadata": {},
   "outputs": [
    {
     "data": {
      "text/html": [
       "<div>\n",
       "<style scoped>\n",
       "    .dataframe tbody tr th:only-of-type {\n",
       "        vertical-align: middle;\n",
       "    }\n",
       "\n",
       "    .dataframe tbody tr th {\n",
       "        vertical-align: top;\n",
       "    }\n",
       "\n",
       "    .dataframe thead th {\n",
       "        text-align: right;\n",
       "    }\n",
       "</style>\n",
       "<table border=\"1\" class=\"dataframe\">\n",
       "  <thead>\n",
       "    <tr style=\"text-align: right;\">\n",
       "      <th></th>\n",
       "      <th>0</th>\n",
       "      <th>1</th>\n",
       "      <th>2</th>\n",
       "    </tr>\n",
       "  </thead>\n",
       "  <tbody>\n",
       "    <tr>\n",
       "      <th>0</th>\n",
       "      <td>1.590131</td>\n",
       "      <td>-0.148616</td>\n",
       "      <td>-1.229331</td>\n",
       "    </tr>\n",
       "    <tr>\n",
       "      <th>1</th>\n",
       "      <td>0.512724</td>\n",
       "      <td>-0.148616</td>\n",
       "      <td>-1.229331</td>\n",
       "    </tr>\n",
       "    <tr>\n",
       "      <th>2</th>\n",
       "      <td>1.063600</td>\n",
       "      <td>-0.148616</td>\n",
       "      <td>-1.229331</td>\n",
       "    </tr>\n",
       "    <tr>\n",
       "      <th>3</th>\n",
       "      <td>-1.308047</td>\n",
       "      <td>-0.148616</td>\n",
       "      <td>-0.323438</td>\n",
       "    </tr>\n",
       "    <tr>\n",
       "      <th>4</th>\n",
       "      <td>-0.467493</td>\n",
       "      <td>-0.148616</td>\n",
       "      <td>-0.510687</td>\n",
       "    </tr>\n",
       "    <tr>\n",
       "      <th>5</th>\n",
       "      <td>0.190855</td>\n",
       "      <td>0.576820</td>\n",
       "      <td>1.006696</td>\n",
       "    </tr>\n",
       "    <tr>\n",
       "      <th>6</th>\n",
       "      <td>-0.201672</td>\n",
       "      <td>-1.238258</td>\n",
       "      <td>1.291395</td>\n",
       "    </tr>\n",
       "  </tbody>\n",
       "</table>\n",
       "</div>"
      ],
      "text/plain": [
       "          0         1         2\n",
       "0  1.590131 -0.148616 -1.229331\n",
       "1  0.512724 -0.148616 -1.229331\n",
       "2  1.063600 -0.148616 -1.229331\n",
       "3 -1.308047 -0.148616 -0.323438\n",
       "4 -0.467493 -0.148616 -0.510687\n",
       "5  0.190855  0.576820  1.006696\n",
       "6 -0.201672 -1.238258  1.291395"
      ]
     },
     "execution_count": 454,
     "metadata": {},
     "output_type": "execute_result"
    }
   ],
   "source": [
    "df.fillna(method=\"bfill\")"
   ]
  },
  {
   "cell_type": "code",
   "execution_count": 455,
   "id": "ff16c212-310c-4287-8318-81050cb0adcf",
   "metadata": {},
   "outputs": [
    {
     "data": {
      "text/html": [
       "<div>\n",
       "<style scoped>\n",
       "    .dataframe tbody tr th:only-of-type {\n",
       "        vertical-align: middle;\n",
       "    }\n",
       "\n",
       "    .dataframe tbody tr th {\n",
       "        vertical-align: top;\n",
       "    }\n",
       "\n",
       "    .dataframe thead th {\n",
       "        text-align: right;\n",
       "    }\n",
       "</style>\n",
       "<table border=\"1\" class=\"dataframe\">\n",
       "  <thead>\n",
       "    <tr style=\"text-align: right;\">\n",
       "      <th></th>\n",
       "      <th>0</th>\n",
       "      <th>1</th>\n",
       "      <th>2</th>\n",
       "    </tr>\n",
       "  </thead>\n",
       "  <tbody>\n",
       "    <tr>\n",
       "      <th>0</th>\n",
       "      <td>1.590131</td>\n",
       "      <td>NaN</td>\n",
       "      <td>-1.229331</td>\n",
       "    </tr>\n",
       "    <tr>\n",
       "      <th>1</th>\n",
       "      <td>0.512724</td>\n",
       "      <td>NaN</td>\n",
       "      <td>-1.229331</td>\n",
       "    </tr>\n",
       "    <tr>\n",
       "      <th>2</th>\n",
       "      <td>1.063600</td>\n",
       "      <td>-0.148616</td>\n",
       "      <td>-1.229331</td>\n",
       "    </tr>\n",
       "    <tr>\n",
       "      <th>3</th>\n",
       "      <td>-1.308047</td>\n",
       "      <td>-0.148616</td>\n",
       "      <td>-0.323438</td>\n",
       "    </tr>\n",
       "    <tr>\n",
       "      <th>4</th>\n",
       "      <td>-0.467493</td>\n",
       "      <td>-0.148616</td>\n",
       "      <td>-0.510687</td>\n",
       "    </tr>\n",
       "    <tr>\n",
       "      <th>5</th>\n",
       "      <td>0.190855</td>\n",
       "      <td>0.576820</td>\n",
       "      <td>1.006696</td>\n",
       "    </tr>\n",
       "    <tr>\n",
       "      <th>6</th>\n",
       "      <td>-0.201672</td>\n",
       "      <td>-1.238258</td>\n",
       "      <td>1.291395</td>\n",
       "    </tr>\n",
       "  </tbody>\n",
       "</table>\n",
       "</div>"
      ],
      "text/plain": [
       "          0         1         2\n",
       "0  1.590131       NaN -1.229331\n",
       "1  0.512724       NaN -1.229331\n",
       "2  1.063600 -0.148616 -1.229331\n",
       "3 -1.308047 -0.148616 -0.323438\n",
       "4 -0.467493 -0.148616 -0.510687\n",
       "5  0.190855  0.576820  1.006696\n",
       "6 -0.201672 -1.238258  1.291395"
      ]
     },
     "execution_count": 455,
     "metadata": {},
     "output_type": "execute_result"
    }
   ],
   "source": [
    "df.fillna(method=\"bfill\", limit=2)"
   ]
  },
  {
   "cell_type": "code",
   "execution_count": 456,
   "id": "471c602b-8ebb-4b86-b56c-889bb8d6f88e",
   "metadata": {},
   "outputs": [
    {
     "data": {
      "text/html": [
       "<div>\n",
       "<style scoped>\n",
       "    .dataframe tbody tr th:only-of-type {\n",
       "        vertical-align: middle;\n",
       "    }\n",
       "\n",
       "    .dataframe tbody tr th {\n",
       "        vertical-align: top;\n",
       "    }\n",
       "\n",
       "    .dataframe thead th {\n",
       "        text-align: right;\n",
       "    }\n",
       "</style>\n",
       "<table border=\"1\" class=\"dataframe\">\n",
       "  <thead>\n",
       "    <tr style=\"text-align: right;\">\n",
       "      <th></th>\n",
       "      <th>0</th>\n",
       "      <th>1</th>\n",
       "      <th>2</th>\n",
       "    </tr>\n",
       "  </thead>\n",
       "  <tbody>\n",
       "    <tr>\n",
       "      <th>0</th>\n",
       "      <td>1.590131</td>\n",
       "      <td>6.500000</td>\n",
       "      <td>3.000000</td>\n",
       "    </tr>\n",
       "    <tr>\n",
       "      <th>1</th>\n",
       "      <td>0.512724</td>\n",
       "      <td>6.500000</td>\n",
       "      <td>3.000000</td>\n",
       "    </tr>\n",
       "    <tr>\n",
       "      <th>2</th>\n",
       "      <td>1.063600</td>\n",
       "      <td>6.500000</td>\n",
       "      <td>-1.229331</td>\n",
       "    </tr>\n",
       "    <tr>\n",
       "      <th>3</th>\n",
       "      <td>-1.308047</td>\n",
       "      <td>6.500000</td>\n",
       "      <td>-0.323438</td>\n",
       "    </tr>\n",
       "    <tr>\n",
       "      <th>4</th>\n",
       "      <td>-0.467493</td>\n",
       "      <td>-0.148616</td>\n",
       "      <td>-0.510687</td>\n",
       "    </tr>\n",
       "    <tr>\n",
       "      <th>5</th>\n",
       "      <td>0.190855</td>\n",
       "      <td>0.576820</td>\n",
       "      <td>1.006696</td>\n",
       "    </tr>\n",
       "    <tr>\n",
       "      <th>6</th>\n",
       "      <td>-0.201672</td>\n",
       "      <td>-1.238258</td>\n",
       "      <td>1.291395</td>\n",
       "    </tr>\n",
       "  </tbody>\n",
       "</table>\n",
       "</div>"
      ],
      "text/plain": [
       "          0         1         2\n",
       "0  1.590131  6.500000  3.000000\n",
       "1  0.512724  6.500000  3.000000\n",
       "2  1.063600  6.500000 -1.229331\n",
       "3 -1.308047  6.500000 -0.323438\n",
       "4 -0.467493 -0.148616 -0.510687\n",
       "5  0.190855  0.576820  1.006696\n",
       "6 -0.201672 -1.238258  1.291395"
      ]
     },
     "execution_count": 456,
     "metadata": {},
     "output_type": "execute_result"
    }
   ],
   "source": [
    "df.fillna(data.mean())"
   ]
  },
  {
   "cell_type": "code",
   "execution_count": 457,
   "id": "19d916b9-2097-48e9-8cd3-36744c37f8a1",
   "metadata": {},
   "outputs": [
    {
     "data": {
      "text/html": [
       "<div>\n",
       "<style scoped>\n",
       "    .dataframe tbody tr th:only-of-type {\n",
       "        vertical-align: middle;\n",
       "    }\n",
       "\n",
       "    .dataframe tbody tr th {\n",
       "        vertical-align: top;\n",
       "    }\n",
       "\n",
       "    .dataframe thead th {\n",
       "        text-align: right;\n",
       "    }\n",
       "</style>\n",
       "<table border=\"1\" class=\"dataframe\">\n",
       "  <thead>\n",
       "    <tr style=\"text-align: right;\">\n",
       "      <th></th>\n",
       "      <th>0</th>\n",
       "      <th>1</th>\n",
       "      <th>2</th>\n",
       "    </tr>\n",
       "  </thead>\n",
       "  <tbody>\n",
       "    <tr>\n",
       "      <th>0</th>\n",
       "      <td>1.590131</td>\n",
       "      <td>6.500000</td>\n",
       "      <td>3.000000</td>\n",
       "    </tr>\n",
       "    <tr>\n",
       "      <th>1</th>\n",
       "      <td>0.512724</td>\n",
       "      <td>6.500000</td>\n",
       "      <td>3.000000</td>\n",
       "    </tr>\n",
       "    <tr>\n",
       "      <th>2</th>\n",
       "      <td>1.063600</td>\n",
       "      <td>6.500000</td>\n",
       "      <td>-1.229331</td>\n",
       "    </tr>\n",
       "    <tr>\n",
       "      <th>3</th>\n",
       "      <td>-1.308047</td>\n",
       "      <td>6.500000</td>\n",
       "      <td>-0.323438</td>\n",
       "    </tr>\n",
       "    <tr>\n",
       "      <th>4</th>\n",
       "      <td>-0.467493</td>\n",
       "      <td>-0.148616</td>\n",
       "      <td>-0.510687</td>\n",
       "    </tr>\n",
       "    <tr>\n",
       "      <th>5</th>\n",
       "      <td>0.190855</td>\n",
       "      <td>0.576820</td>\n",
       "      <td>1.006696</td>\n",
       "    </tr>\n",
       "    <tr>\n",
       "      <th>6</th>\n",
       "      <td>-0.201672</td>\n",
       "      <td>-1.238258</td>\n",
       "      <td>1.291395</td>\n",
       "    </tr>\n",
       "  </tbody>\n",
       "</table>\n",
       "</div>"
      ],
      "text/plain": [
       "          0         1         2\n",
       "0  1.590131  6.500000  3.000000\n",
       "1  0.512724  6.500000  3.000000\n",
       "2  1.063600  6.500000 -1.229331\n",
       "3 -1.308047  6.500000 -0.323438\n",
       "4 -0.467493 -0.148616 -0.510687\n",
       "5  0.190855  0.576820  1.006696\n",
       "6 -0.201672 -1.238258  1.291395"
      ]
     },
     "execution_count": 457,
     "metadata": {},
     "output_type": "execute_result"
    }
   ],
   "source": [
    "df.fillna(data.median())"
   ]
  },
  {
   "cell_type": "markdown",
   "id": "f54a6fa0-7850-44c5-ac95-4919c9c34543",
   "metadata": {},
   "source": [
    "Медиана более устойчива к выбросам"
   ]
  },
  {
   "cell_type": "code",
   "execution_count": 458,
   "id": "5d3e0083-0e42-4cba-89f2-5a849028bd45",
   "metadata": {},
   "outputs": [],
   "source": [
    "data_all = []\n",
    "for i in range(1000):\n",
    "    data = []\n",
    "    for i in range(1000):\n",
    "        if np.random.random() >= 0.90:\n",
    "            data.append(np.random.normal(1, 1, 1)[0])\n",
    "        else:\n",
    "            data.append(np.random.normal(1, 10, 1)[0])\n",
    "    data_all.append(data)\n",
    "    \n",
    "data_all = np.array(data_all)"
   ]
  },
  {
   "cell_type": "code",
   "execution_count": 459,
   "id": "0f121112-c46d-4685-b4f0-f740a3f694da",
   "metadata": {},
   "outputs": [
    {
     "data": {
      "text/plain": [
       "<Axes: >"
      ]
     },
     "execution_count": 459,
     "metadata": {},
     "output_type": "execute_result"
    },
    {
     "data": {
      "image/png": "[encoded data removed]",
      "text/plain": [
       "<Figure size 640x480 with 1 Axes>"
      ]
     },
     "metadata": {},
     "output_type": "display_data"
    }
   ],
   "source": [
    "res = pd.DataFrame({\"mean\": data_all.mean(axis=1), \"median\": np.median(data_all, axis=1)})\n",
    "res.boxplot()"
   ]
  },
  {
   "cell_type": "markdown",
   "id": "0a66f3df-3654-4e95-b1c3-581b79a03d8e",
   "metadata": {},
   "source": [
    "Создание дополнительного признака"
   ]
  },
  {
   "cell_type": "code",
   "execution_count": 460,
   "id": "f548a616-1c85-4a73-b970-4ab455e92fa9",
   "metadata": {},
   "outputs": [
    {
     "data": {
      "text/html": [
       "<div>\n",
       "<style scoped>\n",
       "    .dataframe tbody tr th:only-of-type {\n",
       "        vertical-align: middle;\n",
       "    }\n",
       "\n",
       "    .dataframe tbody tr th {\n",
       "        vertical-align: top;\n",
       "    }\n",
       "\n",
       "    .dataframe thead th {\n",
       "        text-align: right;\n",
       "    }\n",
       "</style>\n",
       "<table border=\"1\" class=\"dataframe\">\n",
       "  <thead>\n",
       "    <tr style=\"text-align: right;\">\n",
       "      <th></th>\n",
       "      <th>0</th>\n",
       "      <th>1</th>\n",
       "      <th>2</th>\n",
       "      <th>2 is nan</th>\n",
       "    </tr>\n",
       "  </thead>\n",
       "  <tbody>\n",
       "    <tr>\n",
       "      <th>0</th>\n",
       "      <td>1.590131</td>\n",
       "      <td>NaN</td>\n",
       "      <td>NaN</td>\n",
       "      <td>1</td>\n",
       "    </tr>\n",
       "    <tr>\n",
       "      <th>1</th>\n",
       "      <td>0.512724</td>\n",
       "      <td>NaN</td>\n",
       "      <td>NaN</td>\n",
       "      <td>1</td>\n",
       "    </tr>\n",
       "    <tr>\n",
       "      <th>2</th>\n",
       "      <td>1.063600</td>\n",
       "      <td>NaN</td>\n",
       "      <td>-1.229331</td>\n",
       "      <td>0</td>\n",
       "    </tr>\n",
       "    <tr>\n",
       "      <th>3</th>\n",
       "      <td>-1.308047</td>\n",
       "      <td>NaN</td>\n",
       "      <td>-0.323438</td>\n",
       "      <td>0</td>\n",
       "    </tr>\n",
       "    <tr>\n",
       "      <th>4</th>\n",
       "      <td>-0.467493</td>\n",
       "      <td>-0.148616</td>\n",
       "      <td>-0.510687</td>\n",
       "      <td>0</td>\n",
       "    </tr>\n",
       "    <tr>\n",
       "      <th>5</th>\n",
       "      <td>0.190855</td>\n",
       "      <td>0.576820</td>\n",
       "      <td>1.006696</td>\n",
       "      <td>0</td>\n",
       "    </tr>\n",
       "    <tr>\n",
       "      <th>6</th>\n",
       "      <td>-0.201672</td>\n",
       "      <td>-1.238258</td>\n",
       "      <td>1.291395</td>\n",
       "      <td>0</td>\n",
       "    </tr>\n",
       "  </tbody>\n",
       "</table>\n",
       "</div>"
      ],
      "text/plain": [
       "          0         1         2  2 is nan\n",
       "0  1.590131       NaN       NaN         1\n",
       "1  0.512724       NaN       NaN         1\n",
       "2  1.063600       NaN -1.229331         0\n",
       "3 -1.308047       NaN -0.323438         0\n",
       "4 -0.467493 -0.148616 -0.510687         0\n",
       "5  0.190855  0.576820  1.006696         0\n",
       "6 -0.201672 -1.238258  1.291395         0"
      ]
     },
     "execution_count": 460,
     "metadata": {},
     "output_type": "execute_result"
    }
   ],
   "source": [
    "df[\"2 is nan\"] = df[2].isna().astype(np.int32)\n",
    "df"
   ]
  },
  {
   "cell_type": "markdown",
   "id": "dd342e89-1cf2-4e65-8a94-a47d2294ecfa",
   "metadata": {},
   "source": [
    "Замена значений"
   ]
  },
  {
   "cell_type": "code",
   "execution_count": 461,
   "id": "964206d0-a401-4142-b794-5a96bcabb24b",
   "metadata": {},
   "outputs": [
    {
     "data": {
      "text/plain": [
       "0      1.0\n",
       "1   -999.0\n",
       "2      2.0\n",
       "3   -999.0\n",
       "4      4.0\n",
       "5      3.0\n",
       "dtype: float64"
      ]
     },
     "execution_count": 461,
     "metadata": {},
     "output_type": "execute_result"
    }
   ],
   "source": [
    "data = pd.Series([1., -999., 2., -999., 4., 3.])\n",
    "data"
   ]
  },
  {
   "cell_type": "code",
   "execution_count": 462,
   "id": "211e1cb6-1d23-41b7-bb82-96b75ddef704",
   "metadata": {},
   "outputs": [
    {
     "data": {
      "text/plain": [
       "0    1.0\n",
       "1    NaN\n",
       "2    2.0\n",
       "3    NaN\n",
       "4    4.0\n",
       "5    3.0\n",
       "dtype: float64"
      ]
     },
     "execution_count": 462,
     "metadata": {},
     "output_type": "execute_result"
    }
   ],
   "source": [
    "data.replace(-999, np.nan)"
   ]
  },
  {
   "cell_type": "markdown",
   "id": "ae76bafb-1bea-47af-9887-3b2e7a2cd8b0",
   "metadata": {},
   "source": [
    "# Кодирование признаков"
   ]
  },
  {
   "cell_type": "markdown",
   "id": "f7da2248-a7dd-49b4-a211-0541757bdb09",
   "metadata": {},
   "source": [
    "Бинарные факторы: False == 0, True == 1"
   ]
  },
  {
   "cell_type": "code",
   "execution_count": 463,
   "id": "a8bea040-07c9-4ca3-99c5-ff1cd94051ea",
   "metadata": {},
   "outputs": [
    {
     "data": {
      "text/plain": [
       "0       male\n",
       "1       male\n",
       "2       male\n",
       "3       male\n",
       "4       male\n",
       "5       male\n",
       "6       male\n",
       "7       male\n",
       "8       male\n",
       "9       male\n",
       "10    female\n",
       "11    female\n",
       "12    female\n",
       "13    female\n",
       "14    female\n",
       "dtype: object"
      ]
     },
     "execution_count": 463,
     "metadata": {},
     "output_type": "execute_result"
    }
   ],
   "source": [
    "data = pd.Series([\"male\"]*10 + [\"female\"]*5) \n",
    "data"
   ]
  },
  {
   "cell_type": "code",
   "execution_count": 464,
   "id": "543531c9-cb85-46bd-8c24-a611bf713d9a",
   "metadata": {},
   "outputs": [
    {
     "data": {
      "text/plain": [
       "0     1\n",
       "1     1\n",
       "2     1\n",
       "3     1\n",
       "4     1\n",
       "5     1\n",
       "6     1\n",
       "7     1\n",
       "8     1\n",
       "9     1\n",
       "10    0\n",
       "11    0\n",
       "12    0\n",
       "13    0\n",
       "14    0\n",
       "dtype: int32"
      ]
     },
     "execution_count": 464,
     "metadata": {},
     "output_type": "execute_result"
    }
   ],
   "source": [
    "(data == \"male\").astype(np.int32)"
   ]
  },
  {
   "cell_type": "markdown",
   "id": "5efd9dd7-1e25-4a32-8715-4b7ab26c302d",
   "metadata": {},
   "source": [
    "Категориальные факторы: разбиваем по порядку\n"
   ]
  },
  {
   "cell_type": "code",
   "execution_count": 465,
   "id": "df80c7f5-70a3-45a4-9949-a77c9b6bdbcc",
   "metadata": {},
   "outputs": [
    {
     "data": {
      "text/html": [
       "<div>\n",
       "<style scoped>\n",
       "    .dataframe tbody tr th:only-of-type {\n",
       "        vertical-align: middle;\n",
       "    }\n",
       "\n",
       "    .dataframe tbody tr th {\n",
       "        vertical-align: top;\n",
       "    }\n",
       "\n",
       "    .dataframe thead th {\n",
       "        text-align: right;\n",
       "    }\n",
       "</style>\n",
       "<table border=\"1\" class=\"dataframe\">\n",
       "  <thead>\n",
       "    <tr style=\"text-align: right;\">\n",
       "      <th></th>\n",
       "      <th>0</th>\n",
       "    </tr>\n",
       "  </thead>\n",
       "  <tbody>\n",
       "    <tr>\n",
       "      <th>0</th>\n",
       "      <td>moscow</td>\n",
       "    </tr>\n",
       "    <tr>\n",
       "      <th>1</th>\n",
       "      <td>spb</td>\n",
       "    </tr>\n",
       "    <tr>\n",
       "      <th>2</th>\n",
       "      <td>moscow</td>\n",
       "    </tr>\n",
       "    <tr>\n",
       "      <th>3</th>\n",
       "      <td>spb</td>\n",
       "    </tr>\n",
       "    <tr>\n",
       "      <th>4</th>\n",
       "      <td>spb</td>\n",
       "    </tr>\n",
       "    <tr>\n",
       "      <th>5</th>\n",
       "      <td>spb</td>\n",
       "    </tr>\n",
       "    <tr>\n",
       "      <th>6</th>\n",
       "      <td>tomsk</td>\n",
       "    </tr>\n",
       "    <tr>\n",
       "      <th>7</th>\n",
       "      <td>novgorod</td>\n",
       "    </tr>\n",
       "    <tr>\n",
       "      <th>8</th>\n",
       "      <td>samara</td>\n",
       "    </tr>\n",
       "    <tr>\n",
       "      <th>9</th>\n",
       "      <td>saratov</td>\n",
       "    </tr>\n",
       "  </tbody>\n",
       "</table>\n",
       "</div>"
      ],
      "text/plain": [
       "          0\n",
       "0    moscow\n",
       "1       spb\n",
       "2    moscow\n",
       "3       spb\n",
       "4       spb\n",
       "5       spb\n",
       "6     tomsk\n",
       "7  novgorod\n",
       "8    samara\n",
       "9   saratov"
      ]
     },
     "execution_count": 465,
     "metadata": {},
     "output_type": "execute_result"
    }
   ],
   "source": [
    "from sklearn.preprocessing import OrdinalEncoder, OneHotEncoder\n",
    "\n",
    "df = pd.DataFrame([\"moscow\", \"spb\", \"moscow\", \"spb\", \"spb\", \"spb\", \"tomsk\", \"novgorod\", \"samara\", \"saratov\"])\n",
    "df"
   ]
  },
  {
   "cell_type": "code",
   "execution_count": 466,
   "id": "5e8c0002-8501-4b74-aeb9-f913b3285e33",
   "metadata": {},
   "outputs": [
    {
     "data": {
      "text/plain": [
       "array([[0.],\n",
       "       [4.],\n",
       "       [0.],\n",
       "       [4.],\n",
       "       [4.],\n",
       "       [4.],\n",
       "       [5.],\n",
       "       [1.],\n",
       "       [2.],\n",
       "       [3.]])"
      ]
     },
     "execution_count": 466,
     "metadata": {},
     "output_type": "execute_result"
    }
   ],
   "source": [
    "enc = OrdinalEncoder()\n",
    "enc.fit_transform(df)"
   ]
  },
  {
   "cell_type": "code",
   "execution_count": 467,
   "id": "7953eede-b601-4538-8f57-9f50c766e289",
   "metadata": {},
   "outputs": [
    {
     "data": {
      "text/plain": [
       "array([[0.],\n",
       "       [4.],\n",
       "       [0.],\n",
       "       [4.],\n",
       "       [4.],\n",
       "       [4.],\n",
       "       [5.],\n",
       "       [1.],\n",
       "       [2.],\n",
       "       [3.]])"
      ]
     },
     "execution_count": 467,
     "metadata": {},
     "output_type": "execute_result"
    }
   ],
   "source": [
    "enc = OrdinalEncoder()\n",
    "enc.fit_transform(df)"
   ]
  },
  {
   "cell_type": "markdown",
   "id": "9e0c4bd5-6a25-42c6-848d-7620991fdf10",
   "metadata": {},
   "source": [
    "Категориальные факторы: разбиваем на много бинарных (one hot encoding)\n",
    "\n",
    "city_is_moscow: 0/1, city_is_spb: 0/1, city_is_tomsk: 0/1 ... "
   ]
  },
  {
   "cell_type": "code",
   "execution_count": 468,
   "id": "06a71c60-938f-4f11-b39a-b654fd367ced",
   "metadata": {},
   "outputs": [
    {
     "data": {
      "text/plain": [
       "[array(['moscow', 'novgorod', 'samara', 'saratov', 'spb', 'tomsk'],\n",
       "       dtype=object)]"
      ]
     },
     "execution_count": 468,
     "metadata": {},
     "output_type": "execute_result"
    }
   ],
   "source": [
    "ohe = OneHotEncoder()\n",
    "ohe.fit(df)\n",
    "ohe.categories_"
   ]
  },
  {
   "cell_type": "code",
   "execution_count": 469,
   "id": "351f24bc-19b1-482e-a25e-f876cd815ec0",
   "metadata": {},
   "outputs": [
    {
     "data": {
      "text/html": [
       "<div>\n",
       "<style scoped>\n",
       "    .dataframe tbody tr th:only-of-type {\n",
       "        vertical-align: middle;\n",
       "    }\n",
       "\n",
       "    .dataframe tbody tr th {\n",
       "        vertical-align: top;\n",
       "    }\n",
       "\n",
       "    .dataframe thead tr th {\n",
       "        text-align: left;\n",
       "    }\n",
       "</style>\n",
       "<table border=\"1\" class=\"dataframe\">\n",
       "  <thead>\n",
       "    <tr>\n",
       "      <th></th>\n",
       "      <th>moscow</th>\n",
       "      <th>novgorod</th>\n",
       "      <th>samara</th>\n",
       "      <th>saratov</th>\n",
       "      <th>spb</th>\n",
       "      <th>tomsk</th>\n",
       "    </tr>\n",
       "  </thead>\n",
       "  <tbody>\n",
       "    <tr>\n",
       "      <th>0</th>\n",
       "      <td>1.0</td>\n",
       "      <td>0.0</td>\n",
       "      <td>0.0</td>\n",
       "      <td>0.0</td>\n",
       "      <td>0.0</td>\n",
       "      <td>0.0</td>\n",
       "    </tr>\n",
       "    <tr>\n",
       "      <th>1</th>\n",
       "      <td>0.0</td>\n",
       "      <td>0.0</td>\n",
       "      <td>0.0</td>\n",
       "      <td>0.0</td>\n",
       "      <td>1.0</td>\n",
       "      <td>0.0</td>\n",
       "    </tr>\n",
       "    <tr>\n",
       "      <th>2</th>\n",
       "      <td>1.0</td>\n",
       "      <td>0.0</td>\n",
       "      <td>0.0</td>\n",
       "      <td>0.0</td>\n",
       "      <td>0.0</td>\n",
       "      <td>0.0</td>\n",
       "    </tr>\n",
       "    <tr>\n",
       "      <th>3</th>\n",
       "      <td>0.0</td>\n",
       "      <td>0.0</td>\n",
       "      <td>0.0</td>\n",
       "      <td>0.0</td>\n",
       "      <td>1.0</td>\n",
       "      <td>0.0</td>\n",
       "    </tr>\n",
       "    <tr>\n",
       "      <th>4</th>\n",
       "      <td>0.0</td>\n",
       "      <td>0.0</td>\n",
       "      <td>0.0</td>\n",
       "      <td>0.0</td>\n",
       "      <td>1.0</td>\n",
       "      <td>0.0</td>\n",
       "    </tr>\n",
       "    <tr>\n",
       "      <th>5</th>\n",
       "      <td>0.0</td>\n",
       "      <td>0.0</td>\n",
       "      <td>0.0</td>\n",
       "      <td>0.0</td>\n",
       "      <td>1.0</td>\n",
       "      <td>0.0</td>\n",
       "    </tr>\n",
       "    <tr>\n",
       "      <th>6</th>\n",
       "      <td>0.0</td>\n",
       "      <td>0.0</td>\n",
       "      <td>0.0</td>\n",
       "      <td>0.0</td>\n",
       "      <td>0.0</td>\n",
       "      <td>1.0</td>\n",
       "    </tr>\n",
       "    <tr>\n",
       "      <th>7</th>\n",
       "      <td>0.0</td>\n",
       "      <td>1.0</td>\n",
       "      <td>0.0</td>\n",
       "      <td>0.0</td>\n",
       "      <td>0.0</td>\n",
       "      <td>0.0</td>\n",
       "    </tr>\n",
       "    <tr>\n",
       "      <th>8</th>\n",
       "      <td>0.0</td>\n",
       "      <td>0.0</td>\n",
       "      <td>1.0</td>\n",
       "      <td>0.0</td>\n",
       "      <td>0.0</td>\n",
       "      <td>0.0</td>\n",
       "    </tr>\n",
       "    <tr>\n",
       "      <th>9</th>\n",
       "      <td>0.0</td>\n",
       "      <td>0.0</td>\n",
       "      <td>0.0</td>\n",
       "      <td>1.0</td>\n",
       "      <td>0.0</td>\n",
       "      <td>0.0</td>\n",
       "    </tr>\n",
       "  </tbody>\n",
       "</table>\n",
       "</div>"
      ],
      "text/plain": [
       "  moscow novgorod samara saratov  spb tomsk\n",
       "0    1.0      0.0    0.0     0.0  0.0   0.0\n",
       "1    0.0      0.0    0.0     0.0  1.0   0.0\n",
       "2    1.0      0.0    0.0     0.0  0.0   0.0\n",
       "3    0.0      0.0    0.0     0.0  1.0   0.0\n",
       "4    0.0      0.0    0.0     0.0  1.0   0.0\n",
       "5    0.0      0.0    0.0     0.0  1.0   0.0\n",
       "6    0.0      0.0    0.0     0.0  0.0   1.0\n",
       "7    0.0      1.0    0.0     0.0  0.0   0.0\n",
       "8    0.0      0.0    1.0     0.0  0.0   0.0\n",
       "9    0.0      0.0    0.0     1.0  0.0   0.0"
      ]
     },
     "execution_count": 469,
     "metadata": {},
     "output_type": "execute_result"
    }
   ],
   "source": [
    "pd.DataFrame(ohe.transform(df).toarray(), columns=ohe.categories_)"
   ]
  },
  {
   "cell_type": "code",
   "execution_count": 470,
   "id": "676fc95b-dba2-431c-ba5e-6a816a60c465",
   "metadata": {},
   "outputs": [
    {
     "data": {
      "text/html": [
       "<div>\n",
       "<style scoped>\n",
       "    .dataframe tbody tr th:only-of-type {\n",
       "        vertical-align: middle;\n",
       "    }\n",
       "\n",
       "    .dataframe tbody tr th {\n",
       "        vertical-align: top;\n",
       "    }\n",
       "\n",
       "    .dataframe thead th {\n",
       "        text-align: right;\n",
       "    }\n",
       "</style>\n",
       "<table border=\"1\" class=\"dataframe\">\n",
       "  <thead>\n",
       "    <tr style=\"text-align: right;\">\n",
       "      <th></th>\n",
       "      <th>0_moscow</th>\n",
       "      <th>0_novgorod</th>\n",
       "      <th>0_samara</th>\n",
       "      <th>0_saratov</th>\n",
       "      <th>0_spb</th>\n",
       "      <th>0_tomsk</th>\n",
       "    </tr>\n",
       "  </thead>\n",
       "  <tbody>\n",
       "    <tr>\n",
       "      <th>0</th>\n",
       "      <td>True</td>\n",
       "      <td>False</td>\n",
       "      <td>False</td>\n",
       "      <td>False</td>\n",
       "      <td>False</td>\n",
       "      <td>False</td>\n",
       "    </tr>\n",
       "    <tr>\n",
       "      <th>1</th>\n",
       "      <td>False</td>\n",
       "      <td>False</td>\n",
       "      <td>False</td>\n",
       "      <td>False</td>\n",
       "      <td>True</td>\n",
       "      <td>False</td>\n",
       "    </tr>\n",
       "    <tr>\n",
       "      <th>2</th>\n",
       "      <td>True</td>\n",
       "      <td>False</td>\n",
       "      <td>False</td>\n",
       "      <td>False</td>\n",
       "      <td>False</td>\n",
       "      <td>False</td>\n",
       "    </tr>\n",
       "    <tr>\n",
       "      <th>3</th>\n",
       "      <td>False</td>\n",
       "      <td>False</td>\n",
       "      <td>False</td>\n",
       "      <td>False</td>\n",
       "      <td>True</td>\n",
       "      <td>False</td>\n",
       "    </tr>\n",
       "    <tr>\n",
       "      <th>4</th>\n",
       "      <td>False</td>\n",
       "      <td>False</td>\n",
       "      <td>False</td>\n",
       "      <td>False</td>\n",
       "      <td>True</td>\n",
       "      <td>False</td>\n",
       "    </tr>\n",
       "    <tr>\n",
       "      <th>5</th>\n",
       "      <td>False</td>\n",
       "      <td>False</td>\n",
       "      <td>False</td>\n",
       "      <td>False</td>\n",
       "      <td>True</td>\n",
       "      <td>False</td>\n",
       "    </tr>\n",
       "    <tr>\n",
       "      <th>6</th>\n",
       "      <td>False</td>\n",
       "      <td>False</td>\n",
       "      <td>False</td>\n",
       "      <td>False</td>\n",
       "      <td>False</td>\n",
       "      <td>True</td>\n",
       "    </tr>\n",
       "    <tr>\n",
       "      <th>7</th>\n",
       "      <td>False</td>\n",
       "      <td>True</td>\n",
       "      <td>False</td>\n",
       "      <td>False</td>\n",
       "      <td>False</td>\n",
       "      <td>False</td>\n",
       "    </tr>\n",
       "    <tr>\n",
       "      <th>8</th>\n",
       "      <td>False</td>\n",
       "      <td>False</td>\n",
       "      <td>True</td>\n",
       "      <td>False</td>\n",
       "      <td>False</td>\n",
       "      <td>False</td>\n",
       "    </tr>\n",
       "    <tr>\n",
       "      <th>9</th>\n",
       "      <td>False</td>\n",
       "      <td>False</td>\n",
       "      <td>False</td>\n",
       "      <td>True</td>\n",
       "      <td>False</td>\n",
       "      <td>False</td>\n",
       "    </tr>\n",
       "  </tbody>\n",
       "</table>\n",
       "</div>"
      ],
      "text/plain": [
       "   0_moscow  0_novgorod  0_samara  0_saratov  0_spb  0_tomsk\n",
       "0      True       False     False      False  False    False\n",
       "1     False       False     False      False   True    False\n",
       "2      True       False     False      False  False    False\n",
       "3     False       False     False      False   True    False\n",
       "4     False       False     False      False   True    False\n",
       "5     False       False     False      False   True    False\n",
       "6     False       False     False      False  False     True\n",
       "7     False        True     False      False  False    False\n",
       "8     False       False      True      False  False    False\n",
       "9     False       False     False       True  False    False"
      ]
     },
     "execution_count": 470,
     "metadata": {},
     "output_type": "execute_result"
    }
   ],
   "source": [
    "pd.get_dummies(df)"
   ]
  },
  {
   "cell_type": "markdown",
   "id": "4ac6376d-7104-47ec-9145-1b990a83ab04",
   "metadata": {},
   "source": [
    "Цикличные факторы: время дня => позиция на циферблате => sin, cos угла"
   ]
  },
  {
   "cell_type": "markdown",
   "id": "77eaa6ac-9c12-4927-a822-b53bd93fe492",
   "metadata": {},
   "source": [
    "# Создание новых признаков"
   ]
  },
  {
   "cell_type": "markdown",
   "id": "e8febd74-ba38-4fbe-ad6a-0b8a0763f3f6",
   "metadata": {},
   "source": [
    "Полиномиальные признаки"
   ]
  },
  {
   "cell_type": "code",
   "execution_count": 471,
   "id": "50f5925c-22c8-4899-9ff5-2dd2abbf8dfe",
   "metadata": {},
   "outputs": [],
   "source": [
    "from sklearn.preprocessing import PolynomialFeatures"
   ]
  },
  {
   "cell_type": "code",
   "execution_count": 472,
   "id": "0c66baa7-de9a-449b-9433-2d4cca7b8876",
   "metadata": {},
   "outputs": [
    {
     "data": {
      "text/plain": [
       "array([[0, 1],\n",
       "       [2, 3],\n",
       "       [4, 5]])"
      ]
     },
     "execution_count": 472,
     "metadata": {},
     "output_type": "execute_result"
    }
   ],
   "source": [
    "X = np.arange(6).reshape(3, 2)\n",
    "X"
   ]
  },
  {
   "cell_type": "code",
   "execution_count": 473,
   "id": "c86a0668-e323-409d-bd54-8cbdb1947a2e",
   "metadata": {},
   "outputs": [
    {
     "data": {
      "text/plain": [
       "array([[ 1.,  0.,  1.,  0.,  0.,  1.],\n",
       "       [ 1.,  2.,  3.,  4.,  6.,  9.],\n",
       "       [ 1.,  4.,  5., 16., 20., 25.]])"
      ]
     },
     "execution_count": 473,
     "metadata": {},
     "output_type": "execute_result"
    }
   ],
   "source": [
    "poly = PolynomialFeatures(2)\n",
    "poly.fit_transform(X)"
   ]
  },
  {
   "cell_type": "markdown",
   "id": "ac69912d-ee40-457f-b00a-cd27e098bd87",
   "metadata": {},
   "source": [
    "Другие преобразования: sin x, ln x"
   ]
  },
  {
   "cell_type": "markdown",
   "id": "32aa6592-4735-49b9-8e86-251e90c57ec8",
   "metadata": {},
   "source": [
    "Дискретизация и группировка по интервалам"
   ]
  },
  {
   "cell_type": "code",
   "execution_count": 474,
   "id": "3aa1155a-4039-4cfd-b688-74e8090b8311",
   "metadata": {},
   "outputs": [
    {
     "data": {
      "text/plain": [
       "array([[<Axes: title={'center': '0'}>]], dtype=object)"
      ]
     },
     "execution_count": 474,
     "metadata": {},
     "output_type": "execute_result"
    },
    {
     "data": {
      "image/png": "[encoded data removed]",
      "text/plain": [
       "<Figure size 640x480 with 1 Axes>"
      ]
     },
     "metadata": {},
     "output_type": "display_data"
    }
   ],
   "source": [
    "ages = [20, 22, 25, 27, 21, 23, 37, 31, 61, 45, 41, 32]\n",
    "pd.DataFrame(ages).hist()"
   ]
  },
  {
   "cell_type": "code",
   "execution_count": 475,
   "id": "dca07e95-cb46-4c96-ac2e-6362f21a2369",
   "metadata": {},
   "outputs": [
    {
     "data": {
      "text/plain": [
       "[(18, 25], (18, 25], (18, 25], (25, 35], (18, 25], ..., (25, 35], (60, 100], (35, 60], (35, 60], (25, 35]]\n",
       "Length: 12\n",
       "Categories (4, interval[int64, right]): [(18, 25] < (25, 35] < (35, 60] < (60, 100]]"
      ]
     },
     "execution_count": 475,
     "metadata": {},
     "output_type": "execute_result"
    }
   ],
   "source": [
    "bins = [18, 25, 35, 60, 100]\n",
    "age_categories = pd.cut(ages, bins)\n",
    "age_categories"
   ]
  },
  {
   "cell_type": "code",
   "execution_count": 476,
   "id": "baa240fe-6b8c-448b-b4da-18d031483166",
   "metadata": {},
   "outputs": [
    {
     "data": {
      "text/plain": [
       "array([0, 0, 0, 1, 0, 0, 2, 1, 3, 2, 2, 1], dtype=int8)"
      ]
     },
     "execution_count": 476,
     "metadata": {},
     "output_type": "execute_result"
    }
   ],
   "source": [
    "age_categories.codes"
   ]
  },
  {
   "cell_type": "markdown",
   "id": "585a6212-f38e-4075-9e22-4db4f63ff738",
   "metadata": {},
   "source": [
    "# Преобразование данных"
   ]
  },
  {
   "cell_type": "markdown",
   "id": "2d222c6f-ee6e-4041-9e8b-c25a50398a26",
   "metadata": {},
   "source": [
    "Приведение к единой шкале: StandardScaler, MinMaxScaler"
   ]
  },
  {
   "cell_type": "code",
   "execution_count": 477,
   "id": "b92a017c-843a-4bcf-afba-285402875a54",
   "metadata": {},
   "outputs": [
    {
     "data": {
      "text/plain": [
       "array([[0.  , 0.  ],\n",
       "       [0.25, 0.25],\n",
       "       [0.5 , 0.5 ],\n",
       "       [1.  , 1.  ]])"
      ]
     },
     "execution_count": 477,
     "metadata": {},
     "output_type": "execute_result"
    }
   ],
   "source": [
    "from sklearn.preprocessing import MinMaxScaler, StandardScaler\n",
    "data = [[-1, 2], [-0.5, 6], [0, 10], [1, 18]]\n",
    "scaler = MinMaxScaler()\n",
    "scaler.fit_transform(data)"
   ]
  },
  {
   "cell_type": "code",
   "execution_count": 478,
   "id": "ef46712e-8843-4541-be10-8d70f8ecfbaf",
   "metadata": {},
   "outputs": [
    {
     "data": {
      "text/plain": [
       "array([[-1.18321596, -1.18321596],\n",
       "       [-0.50709255, -0.50709255],\n",
       "       [ 0.16903085,  0.16903085],\n",
       "       [ 1.52127766,  1.52127766]])"
      ]
     },
     "execution_count": 478,
     "metadata": {},
     "output_type": "execute_result"
    }
   ],
   "source": [
    "scaler = StandardScaler()\n",
    "scaler.fit_transform(data)"
   ]
  },
  {
   "cell_type": "markdown",
   "id": "6bcbefe2-9c43-49e3-b8df-573e62d6423b",
   "metadata": {},
   "source": [
    "Логарифмирование, преобразование Бокса-Кокса"
   ]
  },
  {
   "cell_type": "code",
   "execution_count": 479,
   "id": "604e42de-1f57-41bf-ab4a-593edeeb7590",
   "metadata": {},
   "outputs": [
    {
     "data": {
      "text/plain": [
       "<Axes: ylabel='Density'>"
      ]
     },
     "execution_count": 479,
     "metadata": {},
     "output_type": "execute_result"
    },
    {
     "data": {
      "image/png": "[encoded data removed]",
      "text/plain": [
       "<Figure size 640x480 with 1 Axes>"
      ]
     },
     "metadata": {},
     "output_type": "display_data"
    }
   ],
   "source": [
    "from scipy. stats import boxcox \n",
    "\n",
    "data = np.random.exponential(size= 1000)\n",
    "sns.distplot(data, hist= False, kde= True)"
   ]
  },
  {
   "cell_type": "code",
   "execution_count": 480,
   "id": "96781df3-e5ab-46e9-87bb-22a22e307dbb",
   "metadata": {},
   "outputs": [
    {
     "data": {
      "text/plain": [
       "<Axes: ylabel='Density'>"
      ]
     },
     "execution_count": 480,
     "metadata": {},
     "output_type": "execute_result"
    },
    {
     "data": {
      "image/png": "[encoded data removed]",
      "text/plain": [
       "<Figure size 640x480 with 1 Axes>"
      ]
     },
     "metadata": {},
     "output_type": "display_data"
    }
   ],
   "source": [
    "transformed_data = np.log(data) \n",
    "sns.distplot(transformed_data, hist=False, kde=True)"
   ]
  },
  {
   "cell_type": "code",
   "execution_count": 481,
   "id": "9a13da8f-35f1-4d08-bc3a-3fb90b302bc2",
   "metadata": {},
   "outputs": [
    {
     "data": {
      "text/plain": [
       "<Axes: ylabel='Density'>"
      ]
     },
     "execution_count": 481,
     "metadata": {},
     "output_type": "execute_result"
    },
    {
     "data": {
      "image/png": "[encoded data removed]",
      "text/plain": [
       "<Figure size 640x480 with 1 Axes>"
      ]
     },
     "metadata": {},
     "output_type": "display_data"
    }
   ],
   "source": [
    "transformed_data, best_lambda = boxcox(data) \n",
    "\n",
    "sns.distplot(transformed_data, hist=False , kde=True)"
   ]
  },
  {
   "cell_type": "code",
   "execution_count": 482,
   "id": "e5cdd77b-ad3f-496c-9263-055f4caa1bc9",
   "metadata": {},
   "outputs": [
    {
     "data": {
      "text/plain": [
       "0.2927955327676726"
      ]
     },
     "execution_count": 482,
     "metadata": {},
     "output_type": "execute_result"
    }
   ],
   "source": [
    "best_lambda"
   ]
  },
  {
   "cell_type": "markdown",
   "id": "682fe102-6387-40c9-9dd1-51ce07fdf058",
   "metadata": {},
   "source": [
    "# Домашнее задание"
   ]
  },
  {
   "cell_type": "code",
   "execution_count": 483,
   "id": "b4fde0e8-d4c8-4c23-99d9-2d84a69425a6",
   "metadata": {},
   "outputs": [],
   "source": [
    "df = pd.read_csv(\"https://raw.githubusercontent.com/katarina74/ml_lessons/main/lesson_2/data/techparams_train.csv\")"
   ]
  },
  {
   "cell_type": "code",
   "execution_count": 484,
   "id": "2458e2b0-dbac-4061-8c54-6522aad198be",
   "metadata": {},
   "outputs": [
    {
     "data": {
      "text/html": [
       "<div>\n",
       "<style scoped>\n",
       "    .dataframe tbody tr th:only-of-type {\n",
       "        vertical-align: middle;\n",
       "    }\n",
       "\n",
       "    .dataframe tbody tr th {\n",
       "        vertical-align: top;\n",
       "    }\n",
       "\n",
       "    .dataframe thead th {\n",
       "        text-align: right;\n",
       "    }\n",
       "</style>\n",
       "<table border=\"1\" class=\"dataframe\">\n",
       "  <thead>\n",
       "    <tr style=\"text-align: right;\">\n",
       "      <th></th>\n",
       "      <th>index</th>\n",
       "      <th>back-suspension</th>\n",
       "      <th>battery-capacity</th>\n",
       "      <th>charge-time</th>\n",
       "      <th>compression</th>\n",
       "      <th>consumption-mixed</th>\n",
       "      <th>cylinders-order</th>\n",
       "      <th>cylinders-value</th>\n",
       "      <th>engine-feeding</th>\n",
       "      <th>engine-start</th>\n",
       "      <th>...</th>\n",
       "      <th>configurations_front-brake</th>\n",
       "      <th>configurations_safety-rating</th>\n",
       "      <th>configurations_seats</th>\n",
       "      <th>configurations_tank-volume</th>\n",
       "      <th>supergen_year-stop</th>\n",
       "      <th>models_country-from</th>\n",
       "      <th>models_group</th>\n",
       "      <th>models_light-and-commercial</th>\n",
       "      <th>models_male</th>\n",
       "      <th>target</th>\n",
       "    </tr>\n",
       "  </thead>\n",
       "  <tbody>\n",
       "    <tr>\n",
       "      <th>0</th>\n",
       "      <td>0</td>\n",
       "      <td>9</td>\n",
       "      <td>-1.0</td>\n",
       "      <td>36457</td>\n",
       "      <td>9.0</td>\n",
       "      <td>4.3</td>\n",
       "      <td>0</td>\n",
       "      <td>3</td>\n",
       "      <td>4</td>\n",
       "      <td>2006</td>\n",
       "      <td>...</td>\n",
       "      <td>1</td>\n",
       "      <td>2</td>\n",
       "      <td>13</td>\n",
       "      <td>40.0</td>\n",
       "      <td>2018.0</td>\n",
       "      <td>16</td>\n",
       "      <td>3</td>\n",
       "      <td>0</td>\n",
       "      <td>1</td>\n",
       "      <td>2360</td>\n",
       "    </tr>\n",
       "    <tr>\n",
       "      <th>1</th>\n",
       "      <td>2</td>\n",
       "      <td>3</td>\n",
       "      <td>-1.0</td>\n",
       "      <td>44872</td>\n",
       "      <td>8.0</td>\n",
       "      <td>-1.0</td>\n",
       "      <td>3</td>\n",
       "      <td>7</td>\n",
       "      <td>4</td>\n",
       "      <td>1982</td>\n",
       "      <td>...</td>\n",
       "      <td>4</td>\n",
       "      <td>2</td>\n",
       "      <td>13</td>\n",
       "      <td>108.0</td>\n",
       "      <td>1993.0</td>\n",
       "      <td>34</td>\n",
       "      <td>3</td>\n",
       "      <td>0</td>\n",
       "      <td>1</td>\n",
       "      <td>3060</td>\n",
       "    </tr>\n",
       "    <tr>\n",
       "      <th>2</th>\n",
       "      <td>4</td>\n",
       "      <td>3</td>\n",
       "      <td>-1.0</td>\n",
       "      <td>55927</td>\n",
       "      <td>16.0</td>\n",
       "      <td>4.2</td>\n",
       "      <td>0</td>\n",
       "      <td>4</td>\n",
       "      <td>5</td>\n",
       "      <td>2014</td>\n",
       "      <td>...</td>\n",
       "      <td>4</td>\n",
       "      <td>2</td>\n",
       "      <td>13</td>\n",
       "      <td>55.0</td>\n",
       "      <td>2019.0</td>\n",
       "      <td>35</td>\n",
       "      <td>3</td>\n",
       "      <td>0</td>\n",
       "      <td>1</td>\n",
       "      <td>2648</td>\n",
       "    </tr>\n",
       "    <tr>\n",
       "      <th>3</th>\n",
       "      <td>5</td>\n",
       "      <td>0</td>\n",
       "      <td>-1.0</td>\n",
       "      <td>41405</td>\n",
       "      <td>10.3</td>\n",
       "      <td>-1.0</td>\n",
       "      <td>0</td>\n",
       "      <td>4</td>\n",
       "      <td>4</td>\n",
       "      <td>2000</td>\n",
       "      <td>...</td>\n",
       "      <td>4</td>\n",
       "      <td>2</td>\n",
       "      <td>13</td>\n",
       "      <td>55.0</td>\n",
       "      <td>2003.0</td>\n",
       "      <td>10</td>\n",
       "      <td>3</td>\n",
       "      <td>0</td>\n",
       "      <td>1</td>\n",
       "      <td>2513</td>\n",
       "    </tr>\n",
       "    <tr>\n",
       "      <th>4</th>\n",
       "      <td>7</td>\n",
       "      <td>8</td>\n",
       "      <td>-1.0</td>\n",
       "      <td>22523</td>\n",
       "      <td>19.0</td>\n",
       "      <td>-1.0</td>\n",
       "      <td>0</td>\n",
       "      <td>4</td>\n",
       "      <td>8</td>\n",
       "      <td>2000</td>\n",
       "      <td>...</td>\n",
       "      <td>4</td>\n",
       "      <td>1</td>\n",
       "      <td>13</td>\n",
       "      <td>62.0</td>\n",
       "      <td>2005.0</td>\n",
       "      <td>10</td>\n",
       "      <td>3</td>\n",
       "      <td>0</td>\n",
       "      <td>1</td>\n",
       "      <td>2703</td>\n",
       "    </tr>\n",
       "    <tr>\n",
       "      <th>...</th>\n",
       "      <td>...</td>\n",
       "      <td>...</td>\n",
       "      <td>...</td>\n",
       "      <td>...</td>\n",
       "      <td>...</td>\n",
       "      <td>...</td>\n",
       "      <td>...</td>\n",
       "      <td>...</td>\n",
       "      <td>...</td>\n",
       "      <td>...</td>\n",
       "      <td>...</td>\n",
       "      <td>...</td>\n",
       "      <td>...</td>\n",
       "      <td>...</td>\n",
       "      <td>...</td>\n",
       "      <td>...</td>\n",
       "      <td>...</td>\n",
       "      <td>...</td>\n",
       "      <td>...</td>\n",
       "      <td>...</td>\n",
       "      <td>...</td>\n",
       "    </tr>\n",
       "    <tr>\n",
       "      <th>43240</th>\n",
       "      <td>61224</td>\n",
       "      <td>9</td>\n",
       "      <td>-1.0</td>\n",
       "      <td>34558</td>\n",
       "      <td>11.2</td>\n",
       "      <td>6.6</td>\n",
       "      <td>0</td>\n",
       "      <td>4</td>\n",
       "      <td>4</td>\n",
       "      <td>2004</td>\n",
       "      <td>...</td>\n",
       "      <td>1</td>\n",
       "      <td>2</td>\n",
       "      <td>13</td>\n",
       "      <td>47.0</td>\n",
       "      <td>2016.0</td>\n",
       "      <td>15</td>\n",
       "      <td>3</td>\n",
       "      <td>0</td>\n",
       "      <td>1</td>\n",
       "      <td>2510</td>\n",
       "    </tr>\n",
       "    <tr>\n",
       "      <th>43241</th>\n",
       "      <td>61225</td>\n",
       "      <td>3</td>\n",
       "      <td>-1.0</td>\n",
       "      <td>38268</td>\n",
       "      <td>9.6</td>\n",
       "      <td>5.8</td>\n",
       "      <td>0</td>\n",
       "      <td>4</td>\n",
       "      <td>2</td>\n",
       "      <td>2013</td>\n",
       "      <td>...</td>\n",
       "      <td>4</td>\n",
       "      <td>2</td>\n",
       "      <td>13</td>\n",
       "      <td>65.0</td>\n",
       "      <td>2015.0</td>\n",
       "      <td>10</td>\n",
       "      <td>3</td>\n",
       "      <td>0</td>\n",
       "      <td>1</td>\n",
       "      <td>2808</td>\n",
       "    </tr>\n",
       "    <tr>\n",
       "      <th>43242</th>\n",
       "      <td>61226</td>\n",
       "      <td>3</td>\n",
       "      <td>-1.0</td>\n",
       "      <td>8958</td>\n",
       "      <td>10.0</td>\n",
       "      <td>9.3</td>\n",
       "      <td>0</td>\n",
       "      <td>4</td>\n",
       "      <td>4</td>\n",
       "      <td>1991</td>\n",
       "      <td>...</td>\n",
       "      <td>4</td>\n",
       "      <td>2</td>\n",
       "      <td>13</td>\n",
       "      <td>55.0</td>\n",
       "      <td>1999.0</td>\n",
       "      <td>16</td>\n",
       "      <td>3</td>\n",
       "      <td>0</td>\n",
       "      <td>1</td>\n",
       "      <td>2520</td>\n",
       "    </tr>\n",
       "    <tr>\n",
       "      <th>43243</th>\n",
       "      <td>61227</td>\n",
       "      <td>3</td>\n",
       "      <td>-1.0</td>\n",
       "      <td>20293</td>\n",
       "      <td>8.5</td>\n",
       "      <td>-1.0</td>\n",
       "      <td>0</td>\n",
       "      <td>5</td>\n",
       "      <td>4</td>\n",
       "      <td>2002</td>\n",
       "      <td>...</td>\n",
       "      <td>1</td>\n",
       "      <td>2</td>\n",
       "      <td>13</td>\n",
       "      <td>70.0</td>\n",
       "      <td>2004.0</td>\n",
       "      <td>28</td>\n",
       "      <td>3</td>\n",
       "      <td>0</td>\n",
       "      <td>1</td>\n",
       "      <td>2755</td>\n",
       "    </tr>\n",
       "    <tr>\n",
       "      <th>43244</th>\n",
       "      <td>61228</td>\n",
       "      <td>10</td>\n",
       "      <td>-1.0</td>\n",
       "      <td>52459</td>\n",
       "      <td>8.6</td>\n",
       "      <td>-1.0</td>\n",
       "      <td>0</td>\n",
       "      <td>4</td>\n",
       "      <td>4</td>\n",
       "      <td>1982</td>\n",
       "      <td>...</td>\n",
       "      <td>1</td>\n",
       "      <td>2</td>\n",
       "      <td>8</td>\n",
       "      <td>-1.0</td>\n",
       "      <td>1987.0</td>\n",
       "      <td>16</td>\n",
       "      <td>3</td>\n",
       "      <td>0</td>\n",
       "      <td>0</td>\n",
       "      <td>2620</td>\n",
       "    </tr>\n",
       "  </tbody>\n",
       "</table>\n",
       "<p>43245 rows × 32 columns</p>\n",
       "</div>"
      ],
      "text/plain": [
       "       index  back-suspension  battery-capacity  charge-time  compression  \\\n",
       "0          0                9              -1.0        36457          9.0   \n",
       "1          2                3              -1.0        44872          8.0   \n",
       "2          4                3              -1.0        55927         16.0   \n",
       "3          5                0              -1.0        41405         10.3   \n",
       "4          7                8              -1.0        22523         19.0   \n",
       "...      ...              ...               ...          ...          ...   \n",
       "43240  61224                9              -1.0        34558         11.2   \n",
       "43241  61225                3              -1.0        38268          9.6   \n",
       "43242  61226                3              -1.0         8958         10.0   \n",
       "43243  61227                3              -1.0        20293          8.5   \n",
       "43244  61228               10              -1.0        52459          8.6   \n",
       "\n",
       "       consumption-mixed  cylinders-order  cylinders-value  engine-feeding  \\\n",
       "0                    4.3                0                3               4   \n",
       "1                   -1.0                3                7               4   \n",
       "2                    4.2                0                4               5   \n",
       "3                   -1.0                0                4               4   \n",
       "4                   -1.0                0                4               8   \n",
       "...                  ...              ...              ...             ...   \n",
       "43240                6.6                0                4               4   \n",
       "43241                5.8                0                4               2   \n",
       "43242                9.3                0                4               4   \n",
       "43243               -1.0                0                5               4   \n",
       "43244               -1.0                0                4               4   \n",
       "\n",
       "       engine-start  ...  configurations_front-brake  \\\n",
       "0              2006  ...                           1   \n",
       "1              1982  ...                           4   \n",
       "2              2014  ...                           4   \n",
       "3              2000  ...                           4   \n",
       "4              2000  ...                           4   \n",
       "...             ...  ...                         ...   \n",
       "43240          2004  ...                           1   \n",
       "43241          2013  ...                           4   \n",
       "43242          1991  ...                           4   \n",
       "43243          2002  ...                           1   \n",
       "43244          1982  ...                           1   \n",
       "\n",
       "       configurations_safety-rating  configurations_seats  \\\n",
       "0                                 2                    13   \n",
       "1                                 2                    13   \n",
       "2                                 2                    13   \n",
       "3                                 2                    13   \n",
       "4                                 1                    13   \n",
       "...                             ...                   ...   \n",
       "43240                             2                    13   \n",
       "43241                             2                    13   \n",
       "43242                             2                    13   \n",
       "43243                             2                    13   \n",
       "43244                             2                     8   \n",
       "\n",
       "       configurations_tank-volume  supergen_year-stop  models_country-from  \\\n",
       "0                            40.0              2018.0                   16   \n",
       "1                           108.0              1993.0                   34   \n",
       "2                            55.0              2019.0                   35   \n",
       "3                            55.0              2003.0                   10   \n",
       "4                            62.0              2005.0                   10   \n",
       "...                           ...                 ...                  ...   \n",
       "43240                        47.0              2016.0                   15   \n",
       "43241                        65.0              2015.0                   10   \n",
       "43242                        55.0              1999.0                   16   \n",
       "43243                        70.0              2004.0                   28   \n",
       "43244                        -1.0              1987.0                   16   \n",
       "\n",
       "       models_group  models_light-and-commercial  models_male  target  \n",
       "0                 3                            0            1    2360  \n",
       "1                 3                            0            1    3060  \n",
       "2                 3                            0            1    2648  \n",
       "3                 3                            0            1    2513  \n",
       "4                 3                            0            1    2703  \n",
       "...             ...                          ...          ...     ...  \n",
       "43240             3                            0            1    2510  \n",
       "43241             3                            0            1    2808  \n",
       "43242             3                            0            1    2520  \n",
       "43243             3                            0            1    2755  \n",
       "43244             3                            0            0    2620  \n",
       "\n",
       "[43245 rows x 32 columns]"
      ]
     },
     "execution_count": 484,
     "metadata": {},
     "output_type": "execute_result"
    }
   ],
   "source": [
    "df"
   ]
  },
  {
   "cell_type": "markdown",
   "id": "fdbe8986-3152-4eee-bc60-a83551afee1e",
   "metadata": {},
   "source": [
    "Данные: технические характеристики разных конфигураций автомобилей\n",
    "\n",
    "Таргет: длина колесной базы конфигурации (в миллиметрах)."
   ]
  },
  {
   "cell_type": "markdown",
   "id": "bc8d20f3-a6db-4e6c-be0c-d92bfbd393af",
   "metadata": {},
   "source": [
    "## Baseline"
   ]
  },
  {
   "cell_type": "code",
   "execution_count": 485,
   "id": "22039f8f-d6d8-4998-8ec1-3b83facf013f",
   "metadata": {},
   "outputs": [],
   "source": [
    "from sklearn.model_selection import train_test_split\n",
    "from sklearn.linear_model import LinearRegression\n",
    "from sklearn.metrics import mean_squared_error\n",
    "from sklearn.model_selection import cross_validate"
   ]
  },
  {
   "cell_type": "code",
   "execution_count": 486,
   "id": "261c2445-1dd7-465c-8d43-54556629ff7c",
   "metadata": {},
   "outputs": [],
   "source": [
    "X = df.drop([\"target\"], axis=1)\n",
    "y = df[[\"target\"]]\n",
    "train_X, test_X, train_y, test_y = train_test_split(X, y, test_size=0.33, random_state=42)"
   ]
  },
  {
   "cell_type": "code",
   "execution_count": 487,
   "id": "9b2185ba-3b32-4aa6-bcde-6979aa1f3cdb",
   "metadata": {},
   "outputs": [],
   "source": [
    "reg = LinearRegression().fit(train_X, train_y)"
   ]
  },
  {
   "cell_type": "code",
   "execution_count": 488,
   "id": "0c088b49-4516-4abb-820a-aadaaf26b8c5",
   "metadata": {},
   "outputs": [
    {
     "data": {
      "text/plain": [
       "0.4555406785040048"
      ]
     },
     "execution_count": 488,
     "metadata": {},
     "output_type": "execute_result"
    }
   ],
   "source": [
    "reg.score(train_X, train_y)"
   ]
  },
  {
   "cell_type": "code",
   "execution_count": 489,
   "id": "06bd1b1d-3d5a-4c8b-aaf2-db6167e88c38",
   "metadata": {},
   "outputs": [
    {
     "data": {
      "text/plain": [
       "29840.1212508653"
      ]
     },
     "execution_count": 489,
     "metadata": {},
     "output_type": "execute_result"
    }
   ],
   "source": [
    "mean_squared_error(reg.predict(train_X), train_y)"
   ]
  },
  {
   "cell_type": "code",
   "execution_count": 490,
   "id": "c585389b-8f2a-43c2-82bc-54ce4b2567f8",
   "metadata": {},
   "outputs": [],
   "source": [
    "scores = cross_validate(reg, train_X, train_y, cv=3, \n",
    "                        scoring=('neg_mean_squared_error'))"
   ]
  },
  {
   "cell_type": "code",
   "execution_count": 491,
   "id": "270f6960-1a6b-40f7-b096-8c1a6f28d1e1",
   "metadata": {},
   "outputs": [
    {
     "data": {
      "text/plain": [
       "{'fit_time': array([0.02894783, 0.02171516, 0.02028322]),\n",
       " 'score_time': array([0.00452399, 0.00300264, 0.00352049]),\n",
       " 'test_score': array([-29836.8590711 , -29618.75539266, -30344.6536926 ])}"
      ]
     },
     "execution_count": 491,
     "metadata": {},
     "output_type": "execute_result"
    }
   ],
   "source": [
    "scores"
   ]
  },
  {
   "cell_type": "code",
   "execution_count": 492,
   "id": "5d643c2b-41f4-47c8-8eb8-3c2d8aba6a33",
   "metadata": {},
   "outputs": [
    {
     "data": {
      "text/plain": [
       "31021.024399854483"
      ]
     },
     "execution_count": 492,
     "metadata": {},
     "output_type": "execute_result"
    }
   ],
   "source": [
    "mean_squared_error(reg.predict(test_X), test_y)"
   ]
  },
  {
   "cell_type": "markdown",
   "id": "a694ead5-3110-4c3e-8fee-b516f7bc0e77",
   "metadata": {},
   "source": [
    "## Предобработка данных"
   ]
  },
  {
   "cell_type": "code",
   "execution_count": 493,
   "id": "21f0038c-6262-41bd-9a29-9ef77fa8556b",
   "metadata": {},
   "outputs": [
    {
     "data": {
      "text/html": [
       "<div>\n",
       "<style scoped>\n",
       "    .dataframe tbody tr th:only-of-type {\n",
       "        vertical-align: middle;\n",
       "    }\n",
       "\n",
       "    .dataframe tbody tr th {\n",
       "        vertical-align: top;\n",
       "    }\n",
       "\n",
       "    .dataframe thead th {\n",
       "        text-align: right;\n",
       "    }\n",
       "</style>\n",
       "<table border=\"1\" class=\"dataframe\">\n",
       "  <thead>\n",
       "    <tr style=\"text-align: right;\">\n",
       "      <th></th>\n",
       "      <th>index</th>\n",
       "      <th>back-suspension</th>\n",
       "      <th>battery-capacity</th>\n",
       "      <th>charge-time</th>\n",
       "      <th>compression</th>\n",
       "      <th>consumption-mixed</th>\n",
       "      <th>cylinders-order</th>\n",
       "      <th>cylinders-value</th>\n",
       "      <th>engine-feeding</th>\n",
       "      <th>engine-start</th>\n",
       "      <th>...</th>\n",
       "      <th>configurations_front-brake</th>\n",
       "      <th>configurations_safety-rating</th>\n",
       "      <th>configurations_seats</th>\n",
       "      <th>configurations_tank-volume</th>\n",
       "      <th>supergen_year-stop</th>\n",
       "      <th>models_country-from</th>\n",
       "      <th>models_group</th>\n",
       "      <th>models_light-and-commercial</th>\n",
       "      <th>models_male</th>\n",
       "      <th>target</th>\n",
       "    </tr>\n",
       "  </thead>\n",
       "  <tbody>\n",
       "    <tr>\n",
       "      <th>count</th>\n",
       "      <td>43245.000000</td>\n",
       "      <td>43245.000000</td>\n",
       "      <td>43245.000000</td>\n",
       "      <td>43245.000000</td>\n",
       "      <td>43245.000000</td>\n",
       "      <td>43245.000000</td>\n",
       "      <td>43245.000000</td>\n",
       "      <td>43245.000000</td>\n",
       "      <td>43245.000000</td>\n",
       "      <td>43245.000000</td>\n",
       "      <td>...</td>\n",
       "      <td>43245.000000</td>\n",
       "      <td>43245.000000</td>\n",
       "      <td>43245.000000</td>\n",
       "      <td>43245.000000</td>\n",
       "      <td>43245.000000</td>\n",
       "      <td>43245.000000</td>\n",
       "      <td>43245.000000</td>\n",
       "      <td>43245.000000</td>\n",
       "      <td>43245.000000</td>\n",
       "      <td>43245.000000</td>\n",
       "    </tr>\n",
       "    <tr>\n",
       "      <th>mean</th>\n",
       "      <td>30663.219933</td>\n",
       "      <td>4.273511</td>\n",
       "      <td>-0.875116</td>\n",
       "      <td>30684.557267</td>\n",
       "      <td>8.970296</td>\n",
       "      <td>4.290234</td>\n",
       "      <td>0.628512</td>\n",
       "      <td>4.576506</td>\n",
       "      <td>3.756481</td>\n",
       "      <td>1999.358377</td>\n",
       "      <td>...</td>\n",
       "      <td>3.049370</td>\n",
       "      <td>1.867014</td>\n",
       "      <td>12.964828</td>\n",
       "      <td>53.300937</td>\n",
       "      <td>1790.357267</td>\n",
       "      <td>18.434177</td>\n",
       "      <td>2.991421</td>\n",
       "      <td>0.002035</td>\n",
       "      <td>4.474783</td>\n",
       "      <td>2660.826246</td>\n",
       "    </tr>\n",
       "    <tr>\n",
       "      <th>std</th>\n",
       "      <td>17666.118635</td>\n",
       "      <td>2.929769</td>\n",
       "      <td>2.904357</td>\n",
       "      <td>17562.733960</td>\n",
       "      <td>6.148230</td>\n",
       "      <td>4.765435</td>\n",
       "      <td>1.230331</td>\n",
       "      <td>1.161683</td>\n",
       "      <td>1.720373</td>\n",
       "      <td>13.433605</td>\n",
       "      <td>...</td>\n",
       "      <td>1.375937</td>\n",
       "      <td>0.350225</td>\n",
       "      <td>4.499009</td>\n",
       "      <td>24.845687</td>\n",
       "      <td>616.347148</td>\n",
       "      <td>9.541600</td>\n",
       "      <td>0.142150</td>\n",
       "      <td>0.045065</td>\n",
       "      <td>39.934808</td>\n",
       "      <td>236.315583</td>\n",
       "    </tr>\n",
       "    <tr>\n",
       "      <th>min</th>\n",
       "      <td>0.000000</td>\n",
       "      <td>0.000000</td>\n",
       "      <td>-1.000000</td>\n",
       "      <td>0.000000</td>\n",
       "      <td>-1.000000</td>\n",
       "      <td>-1.000000</td>\n",
       "      <td>0.000000</td>\n",
       "      <td>0.000000</td>\n",
       "      <td>0.000000</td>\n",
       "      <td>1904.000000</td>\n",
       "      <td>...</td>\n",
       "      <td>0.000000</td>\n",
       "      <td>0.000000</td>\n",
       "      <td>0.000000</td>\n",
       "      <td>-1.000000</td>\n",
       "      <td>-1.000000</td>\n",
       "      <td>0.000000</td>\n",
       "      <td>0.000000</td>\n",
       "      <td>0.000000</td>\n",
       "      <td>0.000000</td>\n",
       "      <td>1190.000000</td>\n",
       "    </tr>\n",
       "    <tr>\n",
       "      <th>25%</th>\n",
       "      <td>15455.000000</td>\n",
       "      <td>3.000000</td>\n",
       "      <td>-1.000000</td>\n",
       "      <td>15578.000000</td>\n",
       "      <td>8.500000</td>\n",
       "      <td>-1.000000</td>\n",
       "      <td>0.000000</td>\n",
       "      <td>4.000000</td>\n",
       "      <td>4.000000</td>\n",
       "      <td>1991.000000</td>\n",
       "      <td>...</td>\n",
       "      <td>1.000000</td>\n",
       "      <td>2.000000</td>\n",
       "      <td>13.000000</td>\n",
       "      <td>46.000000</td>\n",
       "      <td>1992.000000</td>\n",
       "      <td>10.000000</td>\n",
       "      <td>3.000000</td>\n",
       "      <td>0.000000</td>\n",
       "      <td>1.000000</td>\n",
       "      <td>2510.000000</td>\n",
       "    </tr>\n",
       "    <tr>\n",
       "      <th>50%</th>\n",
       "      <td>30632.000000</td>\n",
       "      <td>3.000000</td>\n",
       "      <td>-1.000000</td>\n",
       "      <td>30756.000000</td>\n",
       "      <td>9.800000</td>\n",
       "      <td>5.400000</td>\n",
       "      <td>0.000000</td>\n",
       "      <td>4.000000</td>\n",
       "      <td>4.000000</td>\n",
       "      <td>2001.000000</td>\n",
       "      <td>...</td>\n",
       "      <td>4.000000</td>\n",
       "      <td>2.000000</td>\n",
       "      <td>13.000000</td>\n",
       "      <td>58.000000</td>\n",
       "      <td>2002.000000</td>\n",
       "      <td>16.000000</td>\n",
       "      <td>3.000000</td>\n",
       "      <td>0.000000</td>\n",
       "      <td>1.000000</td>\n",
       "      <td>2640.000000</td>\n",
       "    </tr>\n",
       "    <tr>\n",
       "      <th>75%</th>\n",
       "      <td>45951.000000</td>\n",
       "      <td>8.000000</td>\n",
       "      <td>-1.000000</td>\n",
       "      <td>45793.000000</td>\n",
       "      <td>10.800000</td>\n",
       "      <td>8.000000</td>\n",
       "      <td>0.000000</td>\n",
       "      <td>6.000000</td>\n",
       "      <td>5.000000</td>\n",
       "      <td>2010.000000</td>\n",
       "      <td>...</td>\n",
       "      <td>4.000000</td>\n",
       "      <td>2.000000</td>\n",
       "      <td>13.000000</td>\n",
       "      <td>68.000000</td>\n",
       "      <td>2011.000000</td>\n",
       "      <td>26.000000</td>\n",
       "      <td>3.000000</td>\n",
       "      <td>0.000000</td>\n",
       "      <td>1.000000</td>\n",
       "      <td>2774.000000</td>\n",
       "    </tr>\n",
       "    <tr>\n",
       "      <th>max</th>\n",
       "      <td>61228.000000</td>\n",
       "      <td>10.000000</td>\n",
       "      <td>200.000000</td>\n",
       "      <td>61175.000000</td>\n",
       "      <td>23.500000</td>\n",
       "      <td>40.000000</td>\n",
       "      <td>6.000000</td>\n",
       "      <td>10.000000</td>\n",
       "      <td>8.000000</td>\n",
       "      <td>2021.000000</td>\n",
       "      <td>...</td>\n",
       "      <td>4.000000</td>\n",
       "      <td>2.000000</td>\n",
       "      <td>35.000000</td>\n",
       "      <td>166.000000</td>\n",
       "      <td>2021.000000</td>\n",
       "      <td>36.000000</td>\n",
       "      <td>3.000000</td>\n",
       "      <td>1.000000</td>\n",
       "      <td>658.000000</td>\n",
       "      <td>5885.000000</td>\n",
       "    </tr>\n",
       "  </tbody>\n",
       "</table>\n",
       "<p>8 rows × 32 columns</p>\n",
       "</div>"
      ],
      "text/plain": [
       "              index  back-suspension  battery-capacity   charge-time  \\\n",
       "count  43245.000000     43245.000000      43245.000000  43245.000000   \n",
       "mean   30663.219933         4.273511         -0.875116  30684.557267   \n",
       "std    17666.118635         2.929769          2.904357  17562.733960   \n",
       "min        0.000000         0.000000         -1.000000      0.000000   \n",
       "25%    15455.000000         3.000000         -1.000000  15578.000000   \n",
       "50%    30632.000000         3.000000         -1.000000  30756.000000   \n",
       "75%    45951.000000         8.000000         -1.000000  45793.000000   \n",
       "max    61228.000000        10.000000        200.000000  61175.000000   \n",
       "\n",
       "        compression  consumption-mixed  cylinders-order  cylinders-value  \\\n",
       "count  43245.000000       43245.000000     43245.000000     43245.000000   \n",
       "mean       8.970296           4.290234         0.628512         4.576506   \n",
       "std        6.148230           4.765435         1.230331         1.161683   \n",
       "min       -1.000000          -1.000000         0.000000         0.000000   \n",
       "25%        8.500000          -1.000000         0.000000         4.000000   \n",
       "50%        9.800000           5.400000         0.000000         4.000000   \n",
       "75%       10.800000           8.000000         0.000000         6.000000   \n",
       "max       23.500000          40.000000         6.000000        10.000000   \n",
       "\n",
       "       engine-feeding  engine-start  ...  configurations_front-brake  \\\n",
       "count    43245.000000  43245.000000  ...                43245.000000   \n",
       "mean         3.756481   1999.358377  ...                    3.049370   \n",
       "std          1.720373     13.433605  ...                    1.375937   \n",
       "min          0.000000   1904.000000  ...                    0.000000   \n",
       "25%          4.000000   1991.000000  ...                    1.000000   \n",
       "50%          4.000000   2001.000000  ...                    4.000000   \n",
       "75%          5.000000   2010.000000  ...                    4.000000   \n",
       "max          8.000000   2021.000000  ...                    4.000000   \n",
       "\n",
       "       configurations_safety-rating  configurations_seats  \\\n",
       "count                  43245.000000          43245.000000   \n",
       "mean                       1.867014             12.964828   \n",
       "std                        0.350225              4.499009   \n",
       "min                        0.000000              0.000000   \n",
       "25%                        2.000000             13.000000   \n",
       "50%                        2.000000             13.000000   \n",
       "75%                        2.000000             13.000000   \n",
       "max                        2.000000             35.000000   \n",
       "\n",
       "       configurations_tank-volume  supergen_year-stop  models_country-from  \\\n",
       "count                43245.000000        43245.000000         43245.000000   \n",
       "mean                    53.300937         1790.357267            18.434177   \n",
       "std                     24.845687          616.347148             9.541600   \n",
       "min                     -1.000000           -1.000000             0.000000   \n",
       "25%                     46.000000         1992.000000            10.000000   \n",
       "50%                     58.000000         2002.000000            16.000000   \n",
       "75%                     68.000000         2011.000000            26.000000   \n",
       "max                    166.000000         2021.000000            36.000000   \n",
       "\n",
       "       models_group  models_light-and-commercial   models_male        target  \n",
       "count  43245.000000                 43245.000000  43245.000000  43245.000000  \n",
       "mean       2.991421                     0.002035      4.474783   2660.826246  \n",
       "std        0.142150                     0.045065     39.934808    236.315583  \n",
       "min        0.000000                     0.000000      0.000000   1190.000000  \n",
       "25%        3.000000                     0.000000      1.000000   2510.000000  \n",
       "50%        3.000000                     0.000000      1.000000   2640.000000  \n",
       "75%        3.000000                     0.000000      1.000000   2774.000000  \n",
       "max        3.000000                     1.000000    658.000000   5885.000000  \n",
       "\n",
       "[8 rows x 32 columns]"
      ]
     },
     "execution_count": 493,
     "metadata": {},
     "output_type": "execute_result"
    }
   ],
   "source": [
    "df.describe()"
   ]
  },
  {
   "cell_type": "code",
   "execution_count": 494,
   "id": "f15c4fe5-f1a8-4491-956e-fbe4fa1c2c49",
   "metadata": {},
   "outputs": [],
   "source": [
    "df.drop('index', axis=1, inplace=True)"
   ]
  },
  {
   "cell_type": "code",
   "execution_count": 495,
   "id": "9568c663-12a1-4d2e-932a-5680e9a15202",
   "metadata": {},
   "outputs": [],
   "source": [
    "categorial_features = [\n",
    "    'engine-type',\n",
    "    'gear-type', \n",
    "    'supply-system', \n",
    "    'valvetrain', \n",
    "    'configurations_front-brake', \n",
    "    'configurations_safety-rating', \n",
    "    'models_group', \n",
    "    'models_light-and-commercial'\n",
    "]"
   ]
  },
  {
   "cell_type": "code",
   "execution_count": 496,
   "id": "583da853-d554-4011-8a63-72476451ec8c",
   "metadata": {},
   "outputs": [],
   "source": [
    "from sklearn.preprocessing import OneHotEncoder"
   ]
  },
  {
   "cell_type": "code",
   "execution_count": 497,
   "id": "fb9e49c0-c837-4fd4-bda1-f7513f264a21",
   "metadata": {},
   "outputs": [
    {
     "data": {
      "text/html": [
       "<div>\n",
       "<style scoped>\n",
       "    .dataframe tbody tr th:only-of-type {\n",
       "        vertical-align: middle;\n",
       "    }\n",
       "\n",
       "    .dataframe tbody tr th {\n",
       "        vertical-align: top;\n",
       "    }\n",
       "\n",
       "    .dataframe thead th {\n",
       "        text-align: right;\n",
       "    }\n",
       "</style>\n",
       "<table border=\"1\" class=\"dataframe\">\n",
       "  <thead>\n",
       "    <tr style=\"text-align: right;\">\n",
       "      <th></th>\n",
       "      <th>back-suspension</th>\n",
       "      <th>battery-capacity</th>\n",
       "      <th>charge-time</th>\n",
       "      <th>compression</th>\n",
       "      <th>consumption-mixed</th>\n",
       "      <th>cylinders-order</th>\n",
       "      <th>cylinders-value</th>\n",
       "      <th>engine-feeding</th>\n",
       "      <th>engine-start</th>\n",
       "      <th>engine-stop</th>\n",
       "      <th>...</th>\n",
       "      <th>configurations_front-brake_4</th>\n",
       "      <th>configurations_safety-rating_0</th>\n",
       "      <th>configurations_safety-rating_1</th>\n",
       "      <th>configurations_safety-rating_2</th>\n",
       "      <th>models_group_0</th>\n",
       "      <th>models_group_1</th>\n",
       "      <th>models_group_2</th>\n",
       "      <th>models_group_3</th>\n",
       "      <th>models_light-and-commercial_0</th>\n",
       "      <th>models_light-and-commercial_1</th>\n",
       "    </tr>\n",
       "  </thead>\n",
       "  <tbody>\n",
       "    <tr>\n",
       "      <th>0</th>\n",
       "      <td>9</td>\n",
       "      <td>-1.0</td>\n",
       "      <td>36457</td>\n",
       "      <td>9.0</td>\n",
       "      <td>4.3</td>\n",
       "      <td>0</td>\n",
       "      <td>3</td>\n",
       "      <td>4</td>\n",
       "      <td>2006</td>\n",
       "      <td>2018</td>\n",
       "      <td>...</td>\n",
       "      <td>0.0</td>\n",
       "      <td>0.0</td>\n",
       "      <td>0.0</td>\n",
       "      <td>1.0</td>\n",
       "      <td>0.0</td>\n",
       "      <td>0.0</td>\n",
       "      <td>0.0</td>\n",
       "      <td>1.0</td>\n",
       "      <td>1.0</td>\n",
       "      <td>0.0</td>\n",
       "    </tr>\n",
       "    <tr>\n",
       "      <th>1</th>\n",
       "      <td>3</td>\n",
       "      <td>-1.0</td>\n",
       "      <td>44872</td>\n",
       "      <td>8.0</td>\n",
       "      <td>-1.0</td>\n",
       "      <td>3</td>\n",
       "      <td>7</td>\n",
       "      <td>4</td>\n",
       "      <td>1982</td>\n",
       "      <td>1993</td>\n",
       "      <td>...</td>\n",
       "      <td>1.0</td>\n",
       "      <td>0.0</td>\n",
       "      <td>0.0</td>\n",
       "      <td>1.0</td>\n",
       "      <td>0.0</td>\n",
       "      <td>0.0</td>\n",
       "      <td>0.0</td>\n",
       "      <td>1.0</td>\n",
       "      <td>1.0</td>\n",
       "      <td>0.0</td>\n",
       "    </tr>\n",
       "    <tr>\n",
       "      <th>2</th>\n",
       "      <td>3</td>\n",
       "      <td>-1.0</td>\n",
       "      <td>55927</td>\n",
       "      <td>16.0</td>\n",
       "      <td>4.2</td>\n",
       "      <td>0</td>\n",
       "      <td>4</td>\n",
       "      <td>5</td>\n",
       "      <td>2014</td>\n",
       "      <td>2018</td>\n",
       "      <td>...</td>\n",
       "      <td>1.0</td>\n",
       "      <td>0.0</td>\n",
       "      <td>0.0</td>\n",
       "      <td>1.0</td>\n",
       "      <td>0.0</td>\n",
       "      <td>0.0</td>\n",
       "      <td>0.0</td>\n",
       "      <td>1.0</td>\n",
       "      <td>1.0</td>\n",
       "      <td>0.0</td>\n",
       "    </tr>\n",
       "    <tr>\n",
       "      <th>3</th>\n",
       "      <td>0</td>\n",
       "      <td>-1.0</td>\n",
       "      <td>41405</td>\n",
       "      <td>10.3</td>\n",
       "      <td>-1.0</td>\n",
       "      <td>0</td>\n",
       "      <td>4</td>\n",
       "      <td>4</td>\n",
       "      <td>2000</td>\n",
       "      <td>2003</td>\n",
       "      <td>...</td>\n",
       "      <td>1.0</td>\n",
       "      <td>0.0</td>\n",
       "      <td>0.0</td>\n",
       "      <td>1.0</td>\n",
       "      <td>0.0</td>\n",
       "      <td>0.0</td>\n",
       "      <td>0.0</td>\n",
       "      <td>1.0</td>\n",
       "      <td>1.0</td>\n",
       "      <td>0.0</td>\n",
       "    </tr>\n",
       "    <tr>\n",
       "      <th>4</th>\n",
       "      <td>8</td>\n",
       "      <td>-1.0</td>\n",
       "      <td>22523</td>\n",
       "      <td>19.0</td>\n",
       "      <td>-1.0</td>\n",
       "      <td>0</td>\n",
       "      <td>4</td>\n",
       "      <td>8</td>\n",
       "      <td>2000</td>\n",
       "      <td>2005</td>\n",
       "      <td>...</td>\n",
       "      <td>1.0</td>\n",
       "      <td>0.0</td>\n",
       "      <td>1.0</td>\n",
       "      <td>0.0</td>\n",
       "      <td>0.0</td>\n",
       "      <td>0.0</td>\n",
       "      <td>0.0</td>\n",
       "      <td>1.0</td>\n",
       "      <td>1.0</td>\n",
       "      <td>0.0</td>\n",
       "    </tr>\n",
       "    <tr>\n",
       "      <th>...</th>\n",
       "      <td>...</td>\n",
       "      <td>...</td>\n",
       "      <td>...</td>\n",
       "      <td>...</td>\n",
       "      <td>...</td>\n",
       "      <td>...</td>\n",
       "      <td>...</td>\n",
       "      <td>...</td>\n",
       "      <td>...</td>\n",
       "      <td>...</td>\n",
       "      <td>...</td>\n",
       "      <td>...</td>\n",
       "      <td>...</td>\n",
       "      <td>...</td>\n",
       "      <td>...</td>\n",
       "      <td>...</td>\n",
       "      <td>...</td>\n",
       "      <td>...</td>\n",
       "      <td>...</td>\n",
       "      <td>...</td>\n",
       "      <td>...</td>\n",
       "    </tr>\n",
       "    <tr>\n",
       "      <th>43240</th>\n",
       "      <td>9</td>\n",
       "      <td>-1.0</td>\n",
       "      <td>34558</td>\n",
       "      <td>11.2</td>\n",
       "      <td>6.6</td>\n",
       "      <td>0</td>\n",
       "      <td>4</td>\n",
       "      <td>4</td>\n",
       "      <td>2004</td>\n",
       "      <td>2016</td>\n",
       "      <td>...</td>\n",
       "      <td>0.0</td>\n",
       "      <td>0.0</td>\n",
       "      <td>0.0</td>\n",
       "      <td>1.0</td>\n",
       "      <td>0.0</td>\n",
       "      <td>0.0</td>\n",
       "      <td>0.0</td>\n",
       "      <td>1.0</td>\n",
       "      <td>1.0</td>\n",
       "      <td>0.0</td>\n",
       "    </tr>\n",
       "    <tr>\n",
       "      <th>43241</th>\n",
       "      <td>3</td>\n",
       "      <td>-1.0</td>\n",
       "      <td>38268</td>\n",
       "      <td>9.6</td>\n",
       "      <td>5.8</td>\n",
       "      <td>0</td>\n",
       "      <td>4</td>\n",
       "      <td>2</td>\n",
       "      <td>2013</td>\n",
       "      <td>2015</td>\n",
       "      <td>...</td>\n",
       "      <td>1.0</td>\n",
       "      <td>0.0</td>\n",
       "      <td>0.0</td>\n",
       "      <td>1.0</td>\n",
       "      <td>0.0</td>\n",
       "      <td>0.0</td>\n",
       "      <td>0.0</td>\n",
       "      <td>1.0</td>\n",
       "      <td>1.0</td>\n",
       "      <td>0.0</td>\n",
       "    </tr>\n",
       "    <tr>\n",
       "      <th>43242</th>\n",
       "      <td>3</td>\n",
       "      <td>-1.0</td>\n",
       "      <td>8958</td>\n",
       "      <td>10.0</td>\n",
       "      <td>9.3</td>\n",
       "      <td>0</td>\n",
       "      <td>4</td>\n",
       "      <td>4</td>\n",
       "      <td>1991</td>\n",
       "      <td>1999</td>\n",
       "      <td>...</td>\n",
       "      <td>1.0</td>\n",
       "      <td>0.0</td>\n",
       "      <td>0.0</td>\n",
       "      <td>1.0</td>\n",
       "      <td>0.0</td>\n",
       "      <td>0.0</td>\n",
       "      <td>0.0</td>\n",
       "      <td>1.0</td>\n",
       "      <td>1.0</td>\n",
       "      <td>0.0</td>\n",
       "    </tr>\n",
       "    <tr>\n",
       "      <th>43243</th>\n",
       "      <td>3</td>\n",
       "      <td>-1.0</td>\n",
       "      <td>20293</td>\n",
       "      <td>8.5</td>\n",
       "      <td>-1.0</td>\n",
       "      <td>0</td>\n",
       "      <td>5</td>\n",
       "      <td>4</td>\n",
       "      <td>2002</td>\n",
       "      <td>2004</td>\n",
       "      <td>...</td>\n",
       "      <td>0.0</td>\n",
       "      <td>0.0</td>\n",
       "      <td>0.0</td>\n",
       "      <td>1.0</td>\n",
       "      <td>0.0</td>\n",
       "      <td>0.0</td>\n",
       "      <td>0.0</td>\n",
       "      <td>1.0</td>\n",
       "      <td>1.0</td>\n",
       "      <td>0.0</td>\n",
       "    </tr>\n",
       "    <tr>\n",
       "      <th>43244</th>\n",
       "      <td>10</td>\n",
       "      <td>-1.0</td>\n",
       "      <td>52459</td>\n",
       "      <td>8.6</td>\n",
       "      <td>-1.0</td>\n",
       "      <td>0</td>\n",
       "      <td>4</td>\n",
       "      <td>4</td>\n",
       "      <td>1982</td>\n",
       "      <td>1984</td>\n",
       "      <td>...</td>\n",
       "      <td>0.0</td>\n",
       "      <td>0.0</td>\n",
       "      <td>0.0</td>\n",
       "      <td>1.0</td>\n",
       "      <td>0.0</td>\n",
       "      <td>0.0</td>\n",
       "      <td>0.0</td>\n",
       "      <td>1.0</td>\n",
       "      <td>1.0</td>\n",
       "      <td>0.0</td>\n",
       "    </tr>\n",
       "  </tbody>\n",
       "</table>\n",
       "<p>43245 rows × 55 columns</p>\n",
       "</div>"
      ],
      "text/plain": [
       "       back-suspension  battery-capacity  charge-time  compression  \\\n",
       "0                    9              -1.0        36457          9.0   \n",
       "1                    3              -1.0        44872          8.0   \n",
       "2                    3              -1.0        55927         16.0   \n",
       "3                    0              -1.0        41405         10.3   \n",
       "4                    8              -1.0        22523         19.0   \n",
       "...                ...               ...          ...          ...   \n",
       "43240                9              -1.0        34558         11.2   \n",
       "43241                3              -1.0        38268          9.6   \n",
       "43242                3              -1.0         8958         10.0   \n",
       "43243                3              -1.0        20293          8.5   \n",
       "43244               10              -1.0        52459          8.6   \n",
       "\n",
       "       consumption-mixed  cylinders-order  cylinders-value  engine-feeding  \\\n",
       "0                    4.3                0                3               4   \n",
       "1                   -1.0                3                7               4   \n",
       "2                    4.2                0                4               5   \n",
       "3                   -1.0                0                4               4   \n",
       "4                   -1.0                0                4               8   \n",
       "...                  ...              ...              ...             ...   \n",
       "43240                6.6                0                4               4   \n",
       "43241                5.8                0                4               2   \n",
       "43242                9.3                0                4               4   \n",
       "43243               -1.0                0                5               4   \n",
       "43244               -1.0                0                4               4   \n",
       "\n",
       "       engine-start  engine-stop  ...  configurations_front-brake_4  \\\n",
       "0              2006         2018  ...                           0.0   \n",
       "1              1982         1993  ...                           1.0   \n",
       "2              2014         2018  ...                           1.0   \n",
       "3              2000         2003  ...                           1.0   \n",
       "4              2000         2005  ...                           1.0   \n",
       "...             ...          ...  ...                           ...   \n",
       "43240          2004         2016  ...                           0.0   \n",
       "43241          2013         2015  ...                           1.0   \n",
       "43242          1991         1999  ...                           1.0   \n",
       "43243          2002         2004  ...                           0.0   \n",
       "43244          1982         1984  ...                           0.0   \n",
       "\n",
       "       configurations_safety-rating_0  configurations_safety-rating_1  \\\n",
       "0                                 0.0                             0.0   \n",
       "1                                 0.0                             0.0   \n",
       "2                                 0.0                             0.0   \n",
       "3                                 0.0                             0.0   \n",
       "4                                 0.0                             1.0   \n",
       "...                               ...                             ...   \n",
       "43240                             0.0                             0.0   \n",
       "43241                             0.0                             0.0   \n",
       "43242                             0.0                             0.0   \n",
       "43243                             0.0                             0.0   \n",
       "43244                             0.0                             0.0   \n",
       "\n",
       "       configurations_safety-rating_2  models_group_0  models_group_1  \\\n",
       "0                                 1.0             0.0             0.0   \n",
       "1                                 1.0             0.0             0.0   \n",
       "2                                 1.0             0.0             0.0   \n",
       "3                                 1.0             0.0             0.0   \n",
       "4                                 0.0             0.0             0.0   \n",
       "...                               ...             ...             ...   \n",
       "43240                             1.0             0.0             0.0   \n",
       "43241                             1.0             0.0             0.0   \n",
       "43242                             1.0             0.0             0.0   \n",
       "43243                             1.0             0.0             0.0   \n",
       "43244                             1.0             0.0             0.0   \n",
       "\n",
       "       models_group_2  models_group_3  models_light-and-commercial_0  \\\n",
       "0                 0.0             1.0                            1.0   \n",
       "1                 0.0             1.0                            1.0   \n",
       "2                 0.0             1.0                            1.0   \n",
       "3                 0.0             1.0                            1.0   \n",
       "4                 0.0             1.0                            1.0   \n",
       "...               ...             ...                            ...   \n",
       "43240             0.0             1.0                            1.0   \n",
       "43241             0.0             1.0                            1.0   \n",
       "43242             0.0             1.0                            1.0   \n",
       "43243             0.0             1.0                            1.0   \n",
       "43244             0.0             1.0                            1.0   \n",
       "\n",
       "       models_light-and-commercial_1  \n",
       "0                                0.0  \n",
       "1                                0.0  \n",
       "2                                0.0  \n",
       "3                                0.0  \n",
       "4                                0.0  \n",
       "...                              ...  \n",
       "43240                            0.0  \n",
       "43241                            0.0  \n",
       "43242                            0.0  \n",
       "43243                            0.0  \n",
       "43244                            0.0  \n",
       "\n",
       "[43245 rows x 55 columns]"
      ]
     },
     "execution_count": 497,
     "metadata": {},
     "output_type": "execute_result"
    }
   ],
   "source": [
    "categorical_df = df[categorial_features]\n",
    "df = df.drop(categorical_df, axis=1)\n",
    "ohe = OneHotEncoder(sparse_output=False, handle_unknown='ignore')\n",
    "ohe_df = pd.DataFrame(ohe.fit_transform(categorical_df))\n",
    "ohe_df.columns = ohe.get_feature_names_out()\n",
    "df = pd.concat([df, ohe_df], axis=1)\n",
    "df"
   ]
  },
  {
   "cell_type": "code",
   "execution_count": 498,
   "id": "fdf4de89-bbf9-4caf-b1fe-4ad549d5f114",
   "metadata": {},
   "outputs": [],
   "source": [
    "X = df.drop('target', axis=1)\n",
    "y = df.target\n",
    "train_X, test_X, train_y, test_y = train_test_split(X, y, test_size=0.33, random_state=42)"
   ]
  },
  {
   "cell_type": "code",
   "execution_count": 499,
   "id": "93fac4f9-4a27-4732-9cbe-4a1ba8b1e4ba",
   "metadata": {},
   "outputs": [],
   "source": [
    "train_X['battery-capacity'] = train_X['battery-capacity'].replace(-1, np.nan)\n",
    "test_X['battery-capacity'] = test_X['battery-capacity'].replace(-1, np.nan)\n",
    "test_X['battery-capacity']\n",
    "battery_capacity_median = np.nanmedian(train_X['battery-capacity'])"
   ]
  },
  {
   "cell_type": "code",
   "execution_count": 500,
   "id": "278f25a7-9803-41e2-8400-b9d665106048",
   "metadata": {
    "scrolled": true
   },
   "outputs": [],
   "source": [
    "train_X['battery-capacity'].fillna(battery_capacity_median, inplace=True)\n",
    "test_X['battery-capacity'].fillna(battery_capacity_median, inplace=True)"
   ]
  },
  {
   "cell_type": "code",
   "execution_count": 501,
   "id": "e3e9a1aa-f21f-4cc9-9bf5-dc6ff1017371",
   "metadata": {},
   "outputs": [],
   "source": [
    "linear_reg = LinearRegression().fit(train_X, train_y)"
   ]
  },
  {
   "cell_type": "code",
   "execution_count": 506,
   "id": "f37a51a3-bb1c-4712-9bc0-5ea5bbd9a341",
   "metadata": {},
   "outputs": [
    {
     "data": {
      "text/plain": [
       "0.4870856955838183"
      ]
     },
     "execution_count": 506,
     "metadata": {},
     "output_type": "execute_result"
    }
   ],
   "source": [
    "linear_reg.score(test_X, test_y)"
   ]
  },
  {
   "cell_type": "code",
   "execution_count": 509,
   "id": "3001f584-9153-470e-9594-d5ef852b2d8b",
   "metadata": {},
   "outputs": [],
   "source": [
    "train_poly_X = poly.fit_transform(train_X)\n",
    "test_poly_X = poly.fit_transform(test_X)"
   ]
  },
  {
   "cell_type": "code",
   "execution_count": 510,
   "id": "538ae43d-885b-4dda-a5ac-6f6d71f6a874",
   "metadata": {},
   "outputs": [],
   "source": [
    "reg_with_poly = LinearRegression().fit(train_poly_X, train_y)"
   ]
  },
  {
   "cell_type": "code",
   "execution_count": 512,
   "id": "5b75b50f-54f5-4273-a37b-cc786e15193b",
   "metadata": {},
   "outputs": [
    {
     "data": {
      "text/plain": [
       "-37196.13225690572"
      ]
     },
     "execution_count": 512,
     "metadata": {},
     "output_type": "execute_result"
    }
   ],
   "source": [
    "reg_with_poly.score(test_poly_X, test_y)"
   ]
  },
  {
   "cell_type": "code",
   "execution_count": 513,
   "id": "6612a628-ebc0-45f7-b3d0-931584179a2e",
   "metadata": {},
   "outputs": [],
   "source": [
    "from sklearn.feature_selection import SelectKBest, f_regression"
   ]
  },
  {
   "cell_type": "code",
   "execution_count": 514,
   "id": "028a8432-2c1c-4fb1-8eee-bd66da903b96",
   "metadata": {},
   "outputs": [],
   "source": [
    "f_statistic, p_value = f_regression(train_poly_X, train_y)\n",
    "selector = SelectKBest(f_regression, k=500)\n",
    "train_X = pd.DataFrame(selector.fit_transform(train_poly_X, train_y), columns=selector.get_feature_names_out())\n",
    "test_X = pd.DataFrame(selector.transform(test_poly_X), columns=selector.get_feature_names_out())"
   ]
  },
  {
   "cell_type": "code",
   "execution_count": 515,
   "id": "814d3fa5-e61a-4d63-aeba-0a97b01e1b14",
   "metadata": {},
   "outputs": [],
   "source": [
    "model_for_best_features = LinearRegression().fit(train_X, train_y)"
   ]
  },
  {
   "cell_type": "code",
   "execution_count": 516,
   "id": "740d142b-0b9d-4cba-8a8a-4bbf745eeeb0",
   "metadata": {},
   "outputs": [
    {
     "data": {
      "text/plain": [
       "0.6992613923424471"
      ]
     },
     "execution_count": 516,
     "metadata": {},
     "output_type": "execute_result"
    }
   ],
   "source": [
    "model_for_best_features.score(test_X, test_y)"
   ]
  },
  {
   "cell_type": "code",
   "execution_count": null,
   "id": "431f2c7a-0e85-4d23-b7d9-70f7c9fbd2a4",
   "metadata": {},
   "outputs": [],
   "source": []
  }
 ],
 "metadata": {
  "kernelspec": {
   "display_name": "Python 3 (ipykernel)",
   "language": "python",
   "name": "python3"
  },
  "language_info": {
   "codemirror_mode": {
    "name": "ipython",
    "version": 3
   },
   "file_extension": ".py",
   "mimetype": "text/x-python",
   "name": "python",
   "nbconvert_exporter": "python",
   "pygments_lexer": "ipython3",
   "version": "3.11.0"
  }
 },
 "nbformat": 4,
 "nbformat_minor": 5
}
